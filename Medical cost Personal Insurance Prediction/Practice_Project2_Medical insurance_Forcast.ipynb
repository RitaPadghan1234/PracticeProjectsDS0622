{
 "cells": [
  {
   "cell_type": "markdown",
   "id": "551dee2a",
   "metadata": {},
   "source": [
    "# Practice Project - 2 : Medical Cost Personal Insurance Datasets"
   ]
  },
  {
   "cell_type": "markdown",
   "id": "31d57e03",
   "metadata": {},
   "source": [
    "# Problem Statement:\n",
    "Insurance Forecast by using Regression Algorithms\n",
    "\n",
    "Health insurance is a type of insurance that covers medical expenses that arise due to an illness. These expenses could be related to hospitalisation costs, cost of medicines or doctor consultation fees. The main purpose of medical insurance is to receive the best medical care without any strain on your finances. Health insurance plans offer protection against high medical costs. It covers hospitalization expenses, day care procedures, domiciliary expenses, and ambulance charges, besides many others. Based on certain input features such as age , bmi,,no of dependents ,smoker ,region  medical insurance is calculated .\n",
    "\n",
    "Columns                                            \n",
    "\n",
    "·         age: age of primary beneficiary\n",
    "\n",
    "·         sex: insurance contractor gender, female, male\n",
    "\n",
    "·       bmi: Body mass index, providing an understanding of body, weights that are relatively high or low relative to height, objective index of body weight (kg / m ^ 2) using the ratio of height to weight, ideally 18.5 to 24.9.\n",
    "\n",
    "·       children: Number of children covered by health insurance / Number of dependents\n",
    "\n",
    "·     smoker: Smoking\n",
    "\n",
    "·      region: the beneficiary's residential area in the US, northeast, southeast, southwest, northwest.\n",
    "\n",
    "·     charges: Individual medical costs billed by health insurance\n",
    "\n",
    "Predict : Charges  Can you accurately predict insurance costs?"
   ]
  },
  {
   "cell_type": "markdown",
   "id": "9735c556",
   "metadata": {},
   "source": [
    "# Dataset Discription:\n",
    "Medical expenses are the costs to treat or prevent an injury or disease,such as health insurance premiumns, hospital visits, and prescriptions. According to analysis data is multivariable.\n",
    "According to study, smoking,aging are major factors for higher expenses in personal medical expences. For instance, chances of lung cancer are most likely infect the people who are smokers than non-smoker and in obese personality people heart attack rate is higher. Based on certain input features such as age , bmi,,no of dependents,smoker,region medical insurance is calculated.\n",
    "Task is to train a model to predict Charges Can you accurately predict insurance costs using linear regression models. The result of this analysis is to use patient data to estimate the average medical care expences for such population segments. The results can be used to create actuarial tables that set the price of yearly premiuns higher or lower, depending on the expected treatment costs."
   ]
  },
  {
   "cell_type": "markdown",
   "id": "490482c2",
   "metadata": {},
   "source": [
    "# Attribute Information"
   ]
  },
  {
   "cell_type": "markdown",
   "id": "fafc93da",
   "metadata": {},
   "source": [
    "Input features: \n",
    "1 - age , \n",
    "2 - bmi(a Body mass index),\n",
    "3 - Children(no of dependents) ,\n",
    "4 - smoker ,\n",
    "5 - region \n",
    "output features:charges"
   ]
  },
  {
   "cell_type": "markdown",
   "id": "539a6d86",
   "metadata": {},
   "source": [
    "# Reading and Understanding the Data"
   ]
  },
  {
   "cell_type": "code",
   "execution_count": 49,
   "id": "f618fe80",
   "metadata": {},
   "outputs": [],
   "source": [
    "\"\"\"\"importing required libraries\n",
    "Pandas is a useful library in data handling. \n",
    "Numpy library used for working with arrays. \n",
    "Seaborn/Matplotlib are used for data visualisation purpose. \n",
    "Sklearn – This module contains multiple libraries having pre-implemented functions to perform tasks from data preprocessing to model development and evaluation. \n",
    "XGBoost – This contains the eXtreme Gradient Boosting machine learning algorithm which is one of the algorithms which helps us to achieve high accuracy on predictions.\n",
    "\"\"\"\n",
    "#importing required libraries\n",
    "import sklearn\n",
    "import numpy as np\n",
    "\n",
    "import pandas as pd\n",
    "import matplotlib.pyplot as plt\n",
    "import seaborn as sns\n",
    "\n",
    "from sklearn.model_selection import train_test_split\n",
    "from sklearn.metrics import accuracy_score,confusion_matrix,classification_report\n",
    "\n",
    "from sklearn.preprocessing import MinMaxScaler\n",
    "from sklearn import metrics\n",
    "\n",
    "from sklearn.svm import SVC\n",
    "from xgboost import XGBClassifier\n",
    "from sklearn.linear_model import LogisticRegression\n",
    "\n",
    "#Surpress warnings\n",
    "import warnings\n",
    "warnings.filterwarnings('ignore')"
   ]
  },
  {
   "cell_type": "markdown",
   "id": "69aa5378",
   "metadata": {},
   "source": [
    "# Step 1 : Loading the Dataset"
   ]
  },
  {
   "cell_type": "code",
   "execution_count": 50,
   "id": "822bbef3",
   "metadata": {},
   "outputs": [
    {
     "data": {
      "text/html": [
       "<div>\n",
       "<style scoped>\n",
       "    .dataframe tbody tr th:only-of-type {\n",
       "        vertical-align: middle;\n",
       "    }\n",
       "\n",
       "    .dataframe tbody tr th {\n",
       "        vertical-align: top;\n",
       "    }\n",
       "\n",
       "    .dataframe thead th {\n",
       "        text-align: right;\n",
       "    }\n",
       "</style>\n",
       "<table border=\"1\" class=\"dataframe\">\n",
       "  <thead>\n",
       "    <tr style=\"text-align: right;\">\n",
       "      <th></th>\n",
       "      <th>age</th>\n",
       "      <th>sex</th>\n",
       "      <th>bmi</th>\n",
       "      <th>children</th>\n",
       "      <th>smoker</th>\n",
       "      <th>region</th>\n",
       "      <th>charges</th>\n",
       "    </tr>\n",
       "  </thead>\n",
       "  <tbody>\n",
       "    <tr>\n",
       "      <th>0</th>\n",
       "      <td>19</td>\n",
       "      <td>female</td>\n",
       "      <td>27.900</td>\n",
       "      <td>0</td>\n",
       "      <td>yes</td>\n",
       "      <td>southwest</td>\n",
       "      <td>16884.92400</td>\n",
       "    </tr>\n",
       "    <tr>\n",
       "      <th>1</th>\n",
       "      <td>18</td>\n",
       "      <td>male</td>\n",
       "      <td>33.770</td>\n",
       "      <td>1</td>\n",
       "      <td>no</td>\n",
       "      <td>southeast</td>\n",
       "      <td>1725.55230</td>\n",
       "    </tr>\n",
       "    <tr>\n",
       "      <th>2</th>\n",
       "      <td>28</td>\n",
       "      <td>male</td>\n",
       "      <td>33.000</td>\n",
       "      <td>3</td>\n",
       "      <td>no</td>\n",
       "      <td>southeast</td>\n",
       "      <td>4449.46200</td>\n",
       "    </tr>\n",
       "    <tr>\n",
       "      <th>3</th>\n",
       "      <td>33</td>\n",
       "      <td>male</td>\n",
       "      <td>22.705</td>\n",
       "      <td>0</td>\n",
       "      <td>no</td>\n",
       "      <td>northwest</td>\n",
       "      <td>21984.47061</td>\n",
       "    </tr>\n",
       "    <tr>\n",
       "      <th>4</th>\n",
       "      <td>32</td>\n",
       "      <td>male</td>\n",
       "      <td>28.880</td>\n",
       "      <td>0</td>\n",
       "      <td>no</td>\n",
       "      <td>northwest</td>\n",
       "      <td>3866.85520</td>\n",
       "    </tr>\n",
       "    <tr>\n",
       "      <th>...</th>\n",
       "      <td>...</td>\n",
       "      <td>...</td>\n",
       "      <td>...</td>\n",
       "      <td>...</td>\n",
       "      <td>...</td>\n",
       "      <td>...</td>\n",
       "      <td>...</td>\n",
       "    </tr>\n",
       "    <tr>\n",
       "      <th>1333</th>\n",
       "      <td>50</td>\n",
       "      <td>male</td>\n",
       "      <td>30.970</td>\n",
       "      <td>3</td>\n",
       "      <td>no</td>\n",
       "      <td>northwest</td>\n",
       "      <td>10600.54830</td>\n",
       "    </tr>\n",
       "    <tr>\n",
       "      <th>1334</th>\n",
       "      <td>18</td>\n",
       "      <td>female</td>\n",
       "      <td>31.920</td>\n",
       "      <td>0</td>\n",
       "      <td>no</td>\n",
       "      <td>northeast</td>\n",
       "      <td>2205.98080</td>\n",
       "    </tr>\n",
       "    <tr>\n",
       "      <th>1335</th>\n",
       "      <td>18</td>\n",
       "      <td>female</td>\n",
       "      <td>36.850</td>\n",
       "      <td>0</td>\n",
       "      <td>no</td>\n",
       "      <td>southeast</td>\n",
       "      <td>1629.83350</td>\n",
       "    </tr>\n",
       "    <tr>\n",
       "      <th>1336</th>\n",
       "      <td>21</td>\n",
       "      <td>female</td>\n",
       "      <td>25.800</td>\n",
       "      <td>0</td>\n",
       "      <td>no</td>\n",
       "      <td>southwest</td>\n",
       "      <td>2007.94500</td>\n",
       "    </tr>\n",
       "    <tr>\n",
       "      <th>1337</th>\n",
       "      <td>61</td>\n",
       "      <td>female</td>\n",
       "      <td>29.070</td>\n",
       "      <td>0</td>\n",
       "      <td>yes</td>\n",
       "      <td>northwest</td>\n",
       "      <td>29141.36030</td>\n",
       "    </tr>\n",
       "  </tbody>\n",
       "</table>\n",
       "<p>1338 rows × 7 columns</p>\n",
       "</div>"
      ],
      "text/plain": [
       "      age     sex     bmi  children smoker     region      charges\n",
       "0      19  female  27.900         0    yes  southwest  16884.92400\n",
       "1      18    male  33.770         1     no  southeast   1725.55230\n",
       "2      28    male  33.000         3     no  southeast   4449.46200\n",
       "3      33    male  22.705         0     no  northwest  21984.47061\n",
       "4      32    male  28.880         0     no  northwest   3866.85520\n",
       "...   ...     ...     ...       ...    ...        ...          ...\n",
       "1333   50    male  30.970         3     no  northwest  10600.54830\n",
       "1334   18  female  31.920         0     no  northeast   2205.98080\n",
       "1335   18  female  36.850         0     no  southeast   1629.83350\n",
       "1336   21  female  25.800         0     no  southwest   2007.94500\n",
       "1337   61  female  29.070         0    yes  northwest  29141.36030\n",
       "\n",
       "[1338 rows x 7 columns]"
      ]
     },
     "execution_count": 50,
     "metadata": {},
     "output_type": "execute_result"
    }
   ],
   "source": [
    "medical_need_df = pd.read_csv(\"medical_cost_insurance.csv\")\n",
    "medical_need_df"
   ]
  },
  {
   "cell_type": "code",
   "execution_count": 51,
   "id": "8442c0a2",
   "metadata": {},
   "outputs": [
    {
     "data": {
      "text/html": [
       "<div>\n",
       "<style scoped>\n",
       "    .dataframe tbody tr th:only-of-type {\n",
       "        vertical-align: middle;\n",
       "    }\n",
       "\n",
       "    .dataframe tbody tr th {\n",
       "        vertical-align: top;\n",
       "    }\n",
       "\n",
       "    .dataframe thead th {\n",
       "        text-align: right;\n",
       "    }\n",
       "</style>\n",
       "<table border=\"1\" class=\"dataframe\">\n",
       "  <thead>\n",
       "    <tr style=\"text-align: right;\">\n",
       "      <th></th>\n",
       "      <th>age</th>\n",
       "      <th>sex</th>\n",
       "      <th>bmi</th>\n",
       "      <th>children</th>\n",
       "      <th>smoker</th>\n",
       "      <th>region</th>\n",
       "      <th>charges</th>\n",
       "    </tr>\n",
       "  </thead>\n",
       "  <tbody>\n",
       "    <tr>\n",
       "      <th>0</th>\n",
       "      <td>19</td>\n",
       "      <td>female</td>\n",
       "      <td>27.900</td>\n",
       "      <td>0</td>\n",
       "      <td>yes</td>\n",
       "      <td>southwest</td>\n",
       "      <td>16884.92400</td>\n",
       "    </tr>\n",
       "    <tr>\n",
       "      <th>1</th>\n",
       "      <td>18</td>\n",
       "      <td>male</td>\n",
       "      <td>33.770</td>\n",
       "      <td>1</td>\n",
       "      <td>no</td>\n",
       "      <td>southeast</td>\n",
       "      <td>1725.55230</td>\n",
       "    </tr>\n",
       "    <tr>\n",
       "      <th>2</th>\n",
       "      <td>28</td>\n",
       "      <td>male</td>\n",
       "      <td>33.000</td>\n",
       "      <td>3</td>\n",
       "      <td>no</td>\n",
       "      <td>southeast</td>\n",
       "      <td>4449.46200</td>\n",
       "    </tr>\n",
       "    <tr>\n",
       "      <th>3</th>\n",
       "      <td>33</td>\n",
       "      <td>male</td>\n",
       "      <td>22.705</td>\n",
       "      <td>0</td>\n",
       "      <td>no</td>\n",
       "      <td>northwest</td>\n",
       "      <td>21984.47061</td>\n",
       "    </tr>\n",
       "    <tr>\n",
       "      <th>4</th>\n",
       "      <td>32</td>\n",
       "      <td>male</td>\n",
       "      <td>28.880</td>\n",
       "      <td>0</td>\n",
       "      <td>no</td>\n",
       "      <td>northwest</td>\n",
       "      <td>3866.85520</td>\n",
       "    </tr>\n",
       "  </tbody>\n",
       "</table>\n",
       "</div>"
      ],
      "text/plain": [
       "   age     sex     bmi  children smoker     region      charges\n",
       "0   19  female  27.900         0    yes  southwest  16884.92400\n",
       "1   18    male  33.770         1     no  southeast   1725.55230\n",
       "2   28    male  33.000         3     no  southeast   4449.46200\n",
       "3   33    male  22.705         0     no  northwest  21984.47061\n",
       "4   32    male  28.880         0     no  northwest   3866.85520"
      ]
     },
     "execution_count": 51,
     "metadata": {},
     "output_type": "execute_result"
    }
   ],
   "source": [
    "medical_need_df.head(5)"
   ]
  },
  {
   "cell_type": "code",
   "execution_count": 52,
   "id": "9831d3e7",
   "metadata": {},
   "outputs": [
    {
     "data": {
      "text/plain": [
       "(1338, 7)"
      ]
     },
     "execution_count": 52,
     "metadata": {},
     "output_type": "execute_result"
    }
   ],
   "source": [
    "#Checking the data dimension\n",
    "medical_need_df.shape "
   ]
  },
  {
   "cell_type": "markdown",
   "id": "f3594662",
   "metadata": {},
   "source": [
    "We have 1338 rows and 7 columns including the target column means 6 indenpendent feature and 1 dependent feature "
   ]
  },
  {
   "cell_type": "code",
   "execution_count": 53,
   "id": "6d100e91",
   "metadata": {},
   "outputs": [
    {
     "name": "stdout",
     "output_type": "stream",
     "text": [
      "<class 'pandas.core.frame.DataFrame'>\n",
      "RangeIndex: 1338 entries, 0 to 1337\n",
      "Data columns (total 7 columns):\n",
      " #   Column    Non-Null Count  Dtype  \n",
      "---  ------    --------------  -----  \n",
      " 0   age       1338 non-null   int64  \n",
      " 1   sex       1338 non-null   object \n",
      " 2   bmi       1338 non-null   float64\n",
      " 3   children  1338 non-null   int64  \n",
      " 4   smoker    1338 non-null   object \n",
      " 5   region    1338 non-null   object \n",
      " 6   charges   1338 non-null   float64\n",
      "dtypes: float64(2), int64(2), object(3)\n",
      "memory usage: 73.3+ KB\n"
     ]
    }
   ],
   "source": [
    "medical_need_df.info()"
   ]
  },
  {
   "cell_type": "markdown",
   "id": "750ad77e",
   "metadata": {},
   "source": [
    "we notice that age, sex, bmi, children, smoker, region Ananymous in Nature. \n",
    "\n",
    "sex, smoker parameters are catagorical in nature with 2 different values each, all rest age, bmi, children are continuous in nature  \n",
    "cardinality of data(Total no of classes in any particular column)- low cardinality \n",
    "i.e. for sex - male, female\n",
    "         smoker - yes , no\n",
    "No Null values present in any features i.e. no missing values in any feature column."
   ]
  },
  {
   "cell_type": "markdown",
   "id": "29fc057d",
   "metadata": {},
   "source": [
    "Using map function we will convert the catagorical features of sex and smoker column to numeric feature -i.e convert to specific boolean values.do the changes in dataframe using map function "
   ]
  },
  {
   "cell_type": "code",
   "execution_count": 54,
   "id": "27d7fb5d",
   "metadata": {},
   "outputs": [],
   "source": [
    "#Mapping\n",
    "medical_need_df['sex'] = medical_need_df['sex'].map({'male':0,'female':1})\n",
    "medical_need_df['smoker'] = medical_need_df['smoker'].map({'yes':1,'no':0})\n"
   ]
  },
  {
   "cell_type": "code",
   "execution_count": 55,
   "id": "1f064b11",
   "metadata": {},
   "outputs": [
    {
     "data": {
      "text/html": [
       "<div>\n",
       "<style scoped>\n",
       "    .dataframe tbody tr th:only-of-type {\n",
       "        vertical-align: middle;\n",
       "    }\n",
       "\n",
       "    .dataframe tbody tr th {\n",
       "        vertical-align: top;\n",
       "    }\n",
       "\n",
       "    .dataframe thead th {\n",
       "        text-align: right;\n",
       "    }\n",
       "</style>\n",
       "<table border=\"1\" class=\"dataframe\">\n",
       "  <thead>\n",
       "    <tr style=\"text-align: right;\">\n",
       "      <th></th>\n",
       "      <th>age</th>\n",
       "      <th>sex</th>\n",
       "      <th>bmi</th>\n",
       "      <th>children</th>\n",
       "      <th>smoker</th>\n",
       "      <th>region</th>\n",
       "      <th>charges</th>\n",
       "    </tr>\n",
       "  </thead>\n",
       "  <tbody>\n",
       "    <tr>\n",
       "      <th>0</th>\n",
       "      <td>19</td>\n",
       "      <td>1</td>\n",
       "      <td>27.900</td>\n",
       "      <td>0</td>\n",
       "      <td>1</td>\n",
       "      <td>southwest</td>\n",
       "      <td>16884.92400</td>\n",
       "    </tr>\n",
       "    <tr>\n",
       "      <th>1</th>\n",
       "      <td>18</td>\n",
       "      <td>0</td>\n",
       "      <td>33.770</td>\n",
       "      <td>1</td>\n",
       "      <td>0</td>\n",
       "      <td>southeast</td>\n",
       "      <td>1725.55230</td>\n",
       "    </tr>\n",
       "    <tr>\n",
       "      <th>2</th>\n",
       "      <td>28</td>\n",
       "      <td>0</td>\n",
       "      <td>33.000</td>\n",
       "      <td>3</td>\n",
       "      <td>0</td>\n",
       "      <td>southeast</td>\n",
       "      <td>4449.46200</td>\n",
       "    </tr>\n",
       "    <tr>\n",
       "      <th>3</th>\n",
       "      <td>33</td>\n",
       "      <td>0</td>\n",
       "      <td>22.705</td>\n",
       "      <td>0</td>\n",
       "      <td>0</td>\n",
       "      <td>northwest</td>\n",
       "      <td>21984.47061</td>\n",
       "    </tr>\n",
       "    <tr>\n",
       "      <th>4</th>\n",
       "      <td>32</td>\n",
       "      <td>0</td>\n",
       "      <td>28.880</td>\n",
       "      <td>0</td>\n",
       "      <td>0</td>\n",
       "      <td>northwest</td>\n",
       "      <td>3866.85520</td>\n",
       "    </tr>\n",
       "  </tbody>\n",
       "</table>\n",
       "</div>"
      ],
      "text/plain": [
       "   age  sex     bmi  children  smoker     region      charges\n",
       "0   19    1  27.900         0       1  southwest  16884.92400\n",
       "1   18    0  33.770         1       0  southeast   1725.55230\n",
       "2   28    0  33.000         3       0  southeast   4449.46200\n",
       "3   33    0  22.705         0       0  northwest  21984.47061\n",
       "4   32    0  28.880         0       0  northwest   3866.85520"
      ]
     },
     "execution_count": 55,
     "metadata": {},
     "output_type": "execute_result"
    }
   ],
   "source": [
    "medical_need_df.head(5)"
   ]
  },
  {
   "cell_type": "markdown",
   "id": "44a805c3",
   "metadata": {},
   "source": [
    "# Step 2: Data Visualization"
   ]
  },
  {
   "cell_type": "raw",
   "id": "3290bfbc",
   "metadata": {},
   "source": [
    "Data visualization already imported libraries\n",
    "#import matplotlib.pyplot as plt\n",
    "#import seaborn as sns\n",
    "Identify categorical and continuous variables(total no of columns in any particular column)\n",
    "\n"
   ]
  },
  {
   "cell_type": "code",
   "execution_count": 56,
   "id": "1ecd2ed8",
   "metadata": {},
   "outputs": [
    {
     "data": {
      "text/plain": [
       "age           47\n",
       "sex            2\n",
       "bmi          548\n",
       "children       6\n",
       "smoker         2\n",
       "region         4\n",
       "charges     1337\n",
       "dtype: int64"
      ]
     },
     "execution_count": 56,
     "metadata": {},
     "output_type": "execute_result"
    }
   ],
   "source": [
    "medical_need_df.nunique()"
   ]
  },
  {
   "cell_type": "markdown",
   "id": "a711e6ea",
   "metadata": {},
   "source": [
    "for column age cardinality(total no of classes present in particulae column) is high need to reduce it."
   ]
  },
  {
   "cell_type": "code",
   "execution_count": 57,
   "id": "5c32efd4",
   "metadata": {},
   "outputs": [
    {
     "data": {
      "text/html": [
       "<div>\n",
       "<style scoped>\n",
       "    .dataframe tbody tr th:only-of-type {\n",
       "        vertical-align: middle;\n",
       "    }\n",
       "\n",
       "    .dataframe tbody tr th {\n",
       "        vertical-align: top;\n",
       "    }\n",
       "\n",
       "    .dataframe thead th {\n",
       "        text-align: right;\n",
       "    }\n",
       "</style>\n",
       "<table border=\"1\" class=\"dataframe\">\n",
       "  <thead>\n",
       "    <tr style=\"text-align: right;\">\n",
       "      <th></th>\n",
       "      <th>age</th>\n",
       "      <th>sex</th>\n",
       "      <th>bmi</th>\n",
       "      <th>children</th>\n",
       "      <th>smoker</th>\n",
       "      <th>charges</th>\n",
       "    </tr>\n",
       "  </thead>\n",
       "  <tbody>\n",
       "    <tr>\n",
       "      <th>count</th>\n",
       "      <td>1338.000000</td>\n",
       "      <td>1338.000000</td>\n",
       "      <td>1338.000000</td>\n",
       "      <td>1338.000000</td>\n",
       "      <td>1338.000000</td>\n",
       "      <td>1338.000000</td>\n",
       "    </tr>\n",
       "    <tr>\n",
       "      <th>mean</th>\n",
       "      <td>39.207025</td>\n",
       "      <td>0.494768</td>\n",
       "      <td>30.663397</td>\n",
       "      <td>1.094918</td>\n",
       "      <td>0.204783</td>\n",
       "      <td>13270.422265</td>\n",
       "    </tr>\n",
       "    <tr>\n",
       "      <th>std</th>\n",
       "      <td>14.049960</td>\n",
       "      <td>0.500160</td>\n",
       "      <td>6.098187</td>\n",
       "      <td>1.205493</td>\n",
       "      <td>0.403694</td>\n",
       "      <td>12110.011237</td>\n",
       "    </tr>\n",
       "    <tr>\n",
       "      <th>min</th>\n",
       "      <td>18.000000</td>\n",
       "      <td>0.000000</td>\n",
       "      <td>15.960000</td>\n",
       "      <td>0.000000</td>\n",
       "      <td>0.000000</td>\n",
       "      <td>1121.873900</td>\n",
       "    </tr>\n",
       "    <tr>\n",
       "      <th>25%</th>\n",
       "      <td>27.000000</td>\n",
       "      <td>0.000000</td>\n",
       "      <td>26.296250</td>\n",
       "      <td>0.000000</td>\n",
       "      <td>0.000000</td>\n",
       "      <td>4740.287150</td>\n",
       "    </tr>\n",
       "    <tr>\n",
       "      <th>50%</th>\n",
       "      <td>39.000000</td>\n",
       "      <td>0.000000</td>\n",
       "      <td>30.400000</td>\n",
       "      <td>1.000000</td>\n",
       "      <td>0.000000</td>\n",
       "      <td>9382.033000</td>\n",
       "    </tr>\n",
       "    <tr>\n",
       "      <th>75%</th>\n",
       "      <td>51.000000</td>\n",
       "      <td>1.000000</td>\n",
       "      <td>34.693750</td>\n",
       "      <td>2.000000</td>\n",
       "      <td>0.000000</td>\n",
       "      <td>16639.912515</td>\n",
       "    </tr>\n",
       "    <tr>\n",
       "      <th>max</th>\n",
       "      <td>64.000000</td>\n",
       "      <td>1.000000</td>\n",
       "      <td>53.130000</td>\n",
       "      <td>5.000000</td>\n",
       "      <td>1.000000</td>\n",
       "      <td>63770.428010</td>\n",
       "    </tr>\n",
       "  </tbody>\n",
       "</table>\n",
       "</div>"
      ],
      "text/plain": [
       "               age          sex          bmi     children       smoker  \\\n",
       "count  1338.000000  1338.000000  1338.000000  1338.000000  1338.000000   \n",
       "mean     39.207025     0.494768    30.663397     1.094918     0.204783   \n",
       "std      14.049960     0.500160     6.098187     1.205493     0.403694   \n",
       "min      18.000000     0.000000    15.960000     0.000000     0.000000   \n",
       "25%      27.000000     0.000000    26.296250     0.000000     0.000000   \n",
       "50%      39.000000     0.000000    30.400000     1.000000     0.000000   \n",
       "75%      51.000000     1.000000    34.693750     2.000000     0.000000   \n",
       "max      64.000000     1.000000    53.130000     5.000000     1.000000   \n",
       "\n",
       "            charges  \n",
       "count   1338.000000  \n",
       "mean   13270.422265  \n",
       "std    12110.011237  \n",
       "min     1121.873900  \n",
       "25%     4740.287150  \n",
       "50%     9382.033000  \n",
       "75%    16639.912515  \n",
       "max    63770.428010  "
      ]
     },
     "execution_count": 57,
     "metadata": {},
     "output_type": "execute_result"
    }
   ],
   "source": [
    "medical_need_df.describe()"
   ]
  },
  {
   "cell_type": "code",
   "execution_count": 58,
   "id": "638d29c6",
   "metadata": {},
   "outputs": [],
   "source": [
    "#Maximum age is 64 and min age is 18. I reduce by combining age in groups as \"Young Person\",\"Senior Person\",\"Elder Person\"\n",
    "#bining the age columns\n",
    "bins = [17,35,55,1000]\n",
    "age_grps = [\"Young person\",\"Senior person\",\"Elder person\"]\n",
    "medical_need_df['Age_lies'] = pd.cut(medical_need_df['age'],bins = bins, labels = age_grps)\n"
   ]
  },
  {
   "cell_type": "code",
   "execution_count": 59,
   "id": "ba10e986",
   "metadata": {},
   "outputs": [
    {
     "data": {
      "text/html": [
       "<div>\n",
       "<style scoped>\n",
       "    .dataframe tbody tr th:only-of-type {\n",
       "        vertical-align: middle;\n",
       "    }\n",
       "\n",
       "    .dataframe tbody tr th {\n",
       "        vertical-align: top;\n",
       "    }\n",
       "\n",
       "    .dataframe thead th {\n",
       "        text-align: right;\n",
       "    }\n",
       "</style>\n",
       "<table border=\"1\" class=\"dataframe\">\n",
       "  <thead>\n",
       "    <tr style=\"text-align: right;\">\n",
       "      <th></th>\n",
       "      <th>age</th>\n",
       "      <th>sex</th>\n",
       "      <th>bmi</th>\n",
       "      <th>children</th>\n",
       "      <th>smoker</th>\n",
       "      <th>region</th>\n",
       "      <th>charges</th>\n",
       "      <th>Age_lies</th>\n",
       "    </tr>\n",
       "  </thead>\n",
       "  <tbody>\n",
       "    <tr>\n",
       "      <th>0</th>\n",
       "      <td>19</td>\n",
       "      <td>1</td>\n",
       "      <td>27.900</td>\n",
       "      <td>0</td>\n",
       "      <td>1</td>\n",
       "      <td>southwest</td>\n",
       "      <td>16884.92400</td>\n",
       "      <td>Young person</td>\n",
       "    </tr>\n",
       "    <tr>\n",
       "      <th>1</th>\n",
       "      <td>18</td>\n",
       "      <td>0</td>\n",
       "      <td>33.770</td>\n",
       "      <td>1</td>\n",
       "      <td>0</td>\n",
       "      <td>southeast</td>\n",
       "      <td>1725.55230</td>\n",
       "      <td>Young person</td>\n",
       "    </tr>\n",
       "    <tr>\n",
       "      <th>2</th>\n",
       "      <td>28</td>\n",
       "      <td>0</td>\n",
       "      <td>33.000</td>\n",
       "      <td>3</td>\n",
       "      <td>0</td>\n",
       "      <td>southeast</td>\n",
       "      <td>4449.46200</td>\n",
       "      <td>Young person</td>\n",
       "    </tr>\n",
       "    <tr>\n",
       "      <th>3</th>\n",
       "      <td>33</td>\n",
       "      <td>0</td>\n",
       "      <td>22.705</td>\n",
       "      <td>0</td>\n",
       "      <td>0</td>\n",
       "      <td>northwest</td>\n",
       "      <td>21984.47061</td>\n",
       "      <td>Young person</td>\n",
       "    </tr>\n",
       "    <tr>\n",
       "      <th>4</th>\n",
       "      <td>32</td>\n",
       "      <td>0</td>\n",
       "      <td>28.880</td>\n",
       "      <td>0</td>\n",
       "      <td>0</td>\n",
       "      <td>northwest</td>\n",
       "      <td>3866.85520</td>\n",
       "      <td>Young person</td>\n",
       "    </tr>\n",
       "    <tr>\n",
       "      <th>5</th>\n",
       "      <td>31</td>\n",
       "      <td>1</td>\n",
       "      <td>25.740</td>\n",
       "      <td>0</td>\n",
       "      <td>0</td>\n",
       "      <td>southeast</td>\n",
       "      <td>3756.62160</td>\n",
       "      <td>Young person</td>\n",
       "    </tr>\n",
       "    <tr>\n",
       "      <th>6</th>\n",
       "      <td>46</td>\n",
       "      <td>1</td>\n",
       "      <td>33.440</td>\n",
       "      <td>1</td>\n",
       "      <td>0</td>\n",
       "      <td>southeast</td>\n",
       "      <td>8240.58960</td>\n",
       "      <td>Senior person</td>\n",
       "    </tr>\n",
       "    <tr>\n",
       "      <th>7</th>\n",
       "      <td>37</td>\n",
       "      <td>1</td>\n",
       "      <td>27.740</td>\n",
       "      <td>3</td>\n",
       "      <td>0</td>\n",
       "      <td>northwest</td>\n",
       "      <td>7281.50560</td>\n",
       "      <td>Senior person</td>\n",
       "    </tr>\n",
       "    <tr>\n",
       "      <th>8</th>\n",
       "      <td>37</td>\n",
       "      <td>0</td>\n",
       "      <td>29.830</td>\n",
       "      <td>2</td>\n",
       "      <td>0</td>\n",
       "      <td>northeast</td>\n",
       "      <td>6406.41070</td>\n",
       "      <td>Senior person</td>\n",
       "    </tr>\n",
       "    <tr>\n",
       "      <th>9</th>\n",
       "      <td>60</td>\n",
       "      <td>1</td>\n",
       "      <td>25.840</td>\n",
       "      <td>0</td>\n",
       "      <td>0</td>\n",
       "      <td>northwest</td>\n",
       "      <td>28923.13692</td>\n",
       "      <td>Elder person</td>\n",
       "    </tr>\n",
       "    <tr>\n",
       "      <th>10</th>\n",
       "      <td>25</td>\n",
       "      <td>0</td>\n",
       "      <td>26.220</td>\n",
       "      <td>0</td>\n",
       "      <td>0</td>\n",
       "      <td>northeast</td>\n",
       "      <td>2721.32080</td>\n",
       "      <td>Young person</td>\n",
       "    </tr>\n",
       "    <tr>\n",
       "      <th>11</th>\n",
       "      <td>62</td>\n",
       "      <td>1</td>\n",
       "      <td>26.290</td>\n",
       "      <td>0</td>\n",
       "      <td>1</td>\n",
       "      <td>southeast</td>\n",
       "      <td>27808.72510</td>\n",
       "      <td>Elder person</td>\n",
       "    </tr>\n",
       "    <tr>\n",
       "      <th>12</th>\n",
       "      <td>23</td>\n",
       "      <td>0</td>\n",
       "      <td>34.400</td>\n",
       "      <td>0</td>\n",
       "      <td>0</td>\n",
       "      <td>southwest</td>\n",
       "      <td>1826.84300</td>\n",
       "      <td>Young person</td>\n",
       "    </tr>\n",
       "    <tr>\n",
       "      <th>13</th>\n",
       "      <td>56</td>\n",
       "      <td>1</td>\n",
       "      <td>39.820</td>\n",
       "      <td>0</td>\n",
       "      <td>0</td>\n",
       "      <td>southeast</td>\n",
       "      <td>11090.71780</td>\n",
       "      <td>Elder person</td>\n",
       "    </tr>\n",
       "    <tr>\n",
       "      <th>14</th>\n",
       "      <td>27</td>\n",
       "      <td>0</td>\n",
       "      <td>42.130</td>\n",
       "      <td>0</td>\n",
       "      <td>1</td>\n",
       "      <td>southeast</td>\n",
       "      <td>39611.75770</td>\n",
       "      <td>Young person</td>\n",
       "    </tr>\n",
       "  </tbody>\n",
       "</table>\n",
       "</div>"
      ],
      "text/plain": [
       "    age  sex     bmi  children  smoker     region      charges       Age_lies\n",
       "0    19    1  27.900         0       1  southwest  16884.92400   Young person\n",
       "1    18    0  33.770         1       0  southeast   1725.55230   Young person\n",
       "2    28    0  33.000         3       0  southeast   4449.46200   Young person\n",
       "3    33    0  22.705         0       0  northwest  21984.47061   Young person\n",
       "4    32    0  28.880         0       0  northwest   3866.85520   Young person\n",
       "5    31    1  25.740         0       0  southeast   3756.62160   Young person\n",
       "6    46    1  33.440         1       0  southeast   8240.58960  Senior person\n",
       "7    37    1  27.740         3       0  northwest   7281.50560  Senior person\n",
       "8    37    0  29.830         2       0  northeast   6406.41070  Senior person\n",
       "9    60    1  25.840         0       0  northwest  28923.13692   Elder person\n",
       "10   25    0  26.220         0       0  northeast   2721.32080   Young person\n",
       "11   62    1  26.290         0       1  southeast  27808.72510   Elder person\n",
       "12   23    0  34.400         0       0  southwest   1826.84300   Young person\n",
       "13   56    1  39.820         0       0  southeast  11090.71780   Elder person\n",
       "14   27    0  42.130         0       1  southeast  39611.75770   Young person"
      ]
     },
     "execution_count": 59,
     "metadata": {},
     "output_type": "execute_result"
    }
   ],
   "source": [
    "medical_need_df.head(15)"
   ]
  },
  {
   "cell_type": "code",
   "execution_count": 60,
   "id": "aa5681c4",
   "metadata": {},
   "outputs": [
    {
     "data": {
      "text/plain": [
       "sex            2\n",
       "smoker         2\n",
       "Age_lies       3\n",
       "region         4\n",
       "children       6\n",
       "age           47\n",
       "bmi          548\n",
       "charges     1337\n",
       "dtype: int64"
      ]
     },
     "execution_count": 60,
     "metadata": {},
     "output_type": "execute_result"
    }
   ],
   "source": [
    "#again check for uniqueness sort in asc order\n",
    "medical_need_df.nunique().sort_values()"
   ]
  },
  {
   "cell_type": "markdown",
   "id": "b838de73",
   "metadata": {},
   "source": [
    "I can see the number of unique values is acolumn\n",
    "If the no. of unique values <= 40 : Categorical column\n",
    "If the no. of unique values in a column > 50 : continuos    "
   ]
  },
  {
   "cell_type": "code",
   "execution_count": 61,
   "id": "aafc1c9d",
   "metadata": {},
   "outputs": [
    {
     "data": {
      "text/plain": [
       "array(['southwest', 'southeast', 'southeast', ..., 'southeast',\n",
       "       'southwest', 'northwest'], dtype=object)"
      ]
     },
     "execution_count": 61,
     "metadata": {},
     "output_type": "execute_result"
    }
   ],
   "source": [
    "medical_need_df['region'].values"
   ]
  },
  {
   "cell_type": "code",
   "execution_count": 62,
   "id": "e2e7cb94",
   "metadata": {},
   "outputs": [
    {
     "data": {
      "text/html": [
       "<div>\n",
       "<style scoped>\n",
       "    .dataframe tbody tr th:only-of-type {\n",
       "        vertical-align: middle;\n",
       "    }\n",
       "\n",
       "    .dataframe tbody tr th {\n",
       "        vertical-align: top;\n",
       "    }\n",
       "\n",
       "    .dataframe thead th {\n",
       "        text-align: right;\n",
       "    }\n",
       "</style>\n",
       "<table border=\"1\" class=\"dataframe\">\n",
       "  <thead>\n",
       "    <tr style=\"text-align: right;\">\n",
       "      <th></th>\n",
       "      <th>age</th>\n",
       "      <th>sex</th>\n",
       "      <th>bmi</th>\n",
       "      <th>children</th>\n",
       "      <th>smoker</th>\n",
       "      <th>region</th>\n",
       "      <th>charges</th>\n",
       "      <th>Age_lies</th>\n",
       "    </tr>\n",
       "  </thead>\n",
       "  <tbody>\n",
       "    <tr>\n",
       "      <th>0</th>\n",
       "      <td>19</td>\n",
       "      <td>1</td>\n",
       "      <td>27.900</td>\n",
       "      <td>0</td>\n",
       "      <td>1</td>\n",
       "      <td>southwest</td>\n",
       "      <td>16884.92400</td>\n",
       "      <td>Young person</td>\n",
       "    </tr>\n",
       "    <tr>\n",
       "      <th>1</th>\n",
       "      <td>18</td>\n",
       "      <td>0</td>\n",
       "      <td>33.770</td>\n",
       "      <td>1</td>\n",
       "      <td>0</td>\n",
       "      <td>southeast</td>\n",
       "      <td>1725.55230</td>\n",
       "      <td>Young person</td>\n",
       "    </tr>\n",
       "    <tr>\n",
       "      <th>2</th>\n",
       "      <td>28</td>\n",
       "      <td>0</td>\n",
       "      <td>33.000</td>\n",
       "      <td>3</td>\n",
       "      <td>0</td>\n",
       "      <td>southeast</td>\n",
       "      <td>4449.46200</td>\n",
       "      <td>Young person</td>\n",
       "    </tr>\n",
       "    <tr>\n",
       "      <th>3</th>\n",
       "      <td>33</td>\n",
       "      <td>0</td>\n",
       "      <td>22.705</td>\n",
       "      <td>0</td>\n",
       "      <td>0</td>\n",
       "      <td>northwest</td>\n",
       "      <td>21984.47061</td>\n",
       "      <td>Young person</td>\n",
       "    </tr>\n",
       "    <tr>\n",
       "      <th>4</th>\n",
       "      <td>32</td>\n",
       "      <td>0</td>\n",
       "      <td>28.880</td>\n",
       "      <td>0</td>\n",
       "      <td>0</td>\n",
       "      <td>northwest</td>\n",
       "      <td>3866.85520</td>\n",
       "      <td>Young person</td>\n",
       "    </tr>\n",
       "  </tbody>\n",
       "</table>\n",
       "</div>"
      ],
      "text/plain": [
       "   age  sex     bmi  children  smoker     region      charges      Age_lies\n",
       "0   19    1  27.900         0       1  southwest  16884.92400  Young person\n",
       "1   18    0  33.770         1       0  southeast   1725.55230  Young person\n",
       "2   28    0  33.000         3       0  southeast   4449.46200  Young person\n",
       "3   33    0  22.705         0       0  northwest  21984.47061  Young person\n",
       "4   32    0  28.880         0       0  northwest   3866.85520  Young person"
      ]
     },
     "execution_count": 62,
     "metadata": {},
     "output_type": "execute_result"
    }
   ],
   "source": [
    "medical_need_df.head(5)"
   ]
  },
  {
   "cell_type": "markdown",
   "id": "a7ab06c3",
   "metadata": {},
   "source": [
    "# Data Visualization for categorical variables  "
   ]
  },
  {
   "cell_type": "markdown",
   "id": "546786ca",
   "metadata": {},
   "source": [
    "\"smoker\",\"region\",\"Age_lies\" are categorical feature variables, \n",
    "we plot box plot between these variables with target variable \"charges\" to analyaize the correlation between feature variales and target variables."
   ]
  },
  {
   "cell_type": "code",
   "execution_count": 63,
   "id": "dc731775",
   "metadata": {},
   "outputs": [
    {
     "data": {
      "image/png": "[encoded data removed]",
      "text/plain": [
       "<Figure size 1800x1152 with 5 Axes>"
      ]
     },
     "metadata": {
      "needs_background": "light"
     },
     "output_type": "display_data"
    }
   ],
   "source": [
    "#BOXPLOT \n",
    "plt.figure(figsize=(25,16))\n",
    "plt.subplot(2,3,1)\n",
    "sns.boxplot(data=medical_need_df, x='smoker', y='charges',palette = 'bright')\n",
    "plt.title(\"Smokers Vs Charges\",fontweight=\"bold\",size = 16)\n",
    "\n",
    "plt.subplot(2,3,2)\n",
    "sns.boxplot(data=medical_need_df, x='children', y='charges',palette = 'bright')\n",
    "plt.title(\"Children Vs Charges\",fontweight=\"bold\",size = 16)\n",
    "\n",
    "plt.subplot(2,3,3)\n",
    "sns.boxplot(data=medical_need_df, x='sex', y='charges',palette = 'husl')\n",
    "plt.title(\"Sex Vs Charges\",fontweight=\"bold\",size = 16)\n",
    "\n",
    "plt.subplot(2,3,4)\n",
    "sns.boxplot(data=medical_need_df, x='region', y='charges',palette = 'bright')\n",
    "plt.title(\"Region Vs Charges\",fontweight=\"bold\",size = 16)\n",
    "\n",
    "plt.subplot(2,3,5)\n",
    "sns.boxplot(data=medical_need_df, x='Age_lies', y='charges',palette = 'bright')\n",
    "plt.title(\"Age_lies Vs Charges\",fontweight=\"bold\",size = 16)\n",
    "plt.show()"
   ]
  },
  {
   "cell_type": "markdown",
   "id": "098f93b4",
   "metadata": {},
   "source": [
    "# Observations: \n",
    "From above figure smoker- Medical charges for smoker is higher than Non-smoker\n",
    "sex- male have higher medical charges than female\n",
    "Age-lies - Senior persons charged higher\n"
   ]
  },
  {
   "cell_type": "markdown",
   "id": "2f5a43da",
   "metadata": {},
   "source": [
    "We now find out more sex, smokers, children lets see how it changes by region present in which region by boxplot"
   ]
  },
  {
   "cell_type": "code",
   "execution_count": 64,
   "id": "e09ff312",
   "metadata": {},
   "outputs": [
    {
     "data": {
      "image/png": "[encoded data removed]",
      "text/plain": [
       "<Figure size 864x432 with 1 Axes>"
      ]
     },
     "metadata": {
      "needs_background": "light"
     },
     "output_type": "display_data"
    }
   ],
   "source": [
    "plt.figure(figsize=(12,6))\n",
    "sns.barplot(data=medical_need_df, x='region', y='charges', hue='smoker', palette='Set1')\n",
    "plt.show()\n"
   ]
  },
  {
   "cell_type": "markdown",
   "id": "11a469e5",
   "metadata": {},
   "source": [
    "# Observation:\n",
    "Southeast region are highly changed because of smoking habbit is more in southeast area where as northeast region are charged less because of smoking\n"
   ]
  },
  {
   "cell_type": "code",
   "execution_count": 65,
   "id": "d3d16beb",
   "metadata": {},
   "outputs": [
    {
     "data": {
      "image/png": "[encoded data removed]",
      "text/plain": [
       "<Figure size 864x432 with 1 Axes>"
      ]
     },
     "metadata": {
      "needs_background": "light"
     },
     "output_type": "display_data"
    }
   ],
   "source": [
    "plt.figure(figsize=(12,6))\n",
    "sns.barplot(data=medical_need_df, x='region', y='charges', hue='children', palette='cool')\n",
    "plt.show()\n"
   ]
  },
  {
   "cell_type": "markdown",
   "id": "78dbbeea",
   "metadata": {},
   "source": [
    "# Observation: \n",
    "Southeast region are highly changed because of most families have 4 children in family in this region they are highly charged ,northeast region are lowest medical charged region. "
   ]
  },
  {
   "cell_type": "code",
   "execution_count": 66,
   "id": "ae332a4c",
   "metadata": {},
   "outputs": [
    {
     "data": {
      "image/png": "[encoded data removed]",
      "text/plain": [
       "<Figure size 864x432 with 1 Axes>"
      ]
     },
     "metadata": {
      "needs_background": "light"
     },
     "output_type": "display_data"
    }
   ],
   "source": [
    "plt.figure(figsize = (12,6))\n",
    "sns.barplot(data = medical_need_df, x = 'region', y = 'charges', hue = 'sex', palette  ='bright')\n",
    "plt.show()"
   ]
  },
  {
   "cell_type": "markdown",
   "id": "12b016c1",
   "metadata": {},
   "source": [
    "# Observation:\n",
    "From above figure Males from southeast region are highest paying for medical charges among all the region "
   ]
  },
  {
   "cell_type": "code",
   "execution_count": 67,
   "id": "be35532d",
   "metadata": {},
   "outputs": [
    {
     "data": {
      "image/png": "[encoded data removed]",
      "text/plain": [
       "<Figure size 864x432 with 1 Axes>"
      ]
     },
     "metadata": {
      "needs_background": "light"
     },
     "output_type": "display_data"
    }
   ],
   "source": [
    "plt.figure(figsize=(12,6))\n",
    "sns.barplot(data=medical_need_df, x='children', y='charges', hue='smoker', palette='cool')\n",
    "plt.show()"
   ]
  },
  {
   "cell_type": "markdown",
   "id": "fed88f10",
   "metadata": {},
   "source": [
    "# Observation: \n",
    "people having more children are Non smoker whereas those having 2 children are charged highly because they are smoker"
   ]
  },
  {
   "cell_type": "markdown",
   "id": "c61cf5c1",
   "metadata": {},
   "source": [
    "# Heatmap"
   ]
  },
  {
   "cell_type": "code",
   "execution_count": 68,
   "id": "d91cce46",
   "metadata": {},
   "outputs": [
    {
     "data": {
      "image/png": "[encoded data removed]",
      "text/plain": [
       "<Figure size 1152x504 with 2 Axes>"
      ]
     },
     "metadata": {
      "needs_background": "light"
     },
     "output_type": "display_data"
    }
   ],
   "source": [
    "plt.figure(figsize=(16,7))\n",
    "sns.heatmap(data = medical_need_df.corr(), annot=True, cmap= 'BuPu')\n",
    "plt.title(\"Correlation between Variables\")\n",
    "plt.show()"
   ]
  },
  {
   "cell_type": "markdown",
   "id": "264bc441",
   "metadata": {},
   "source": [
    "# Data Visualization for numeric variables"
   ]
  },
  {
   "cell_type": "code",
   "execution_count": 69,
   "id": "8353b5be",
   "metadata": {},
   "outputs": [
    {
     "data": {
      "image/png": "[encoded data removed]",
      "text/plain": [
       "<Figure size 764.5x720 with 20 Axes>"
      ]
     },
     "metadata": {
      "needs_background": "light"
     },
     "output_type": "display_data"
    }
   ],
   "source": [
    "#pairplot  of all numerical variables\n",
    "sns.pairplot(medical_need_df,vars=['age','bmi','children','charges'],hue = 'smoker',palette='bright')\n",
    "plt.show()"
   ]
  },
  {
   "cell_type": "markdown",
   "id": "cf04e3ad",
   "metadata": {},
   "source": [
    "Observation- \n",
    "From about plot we can see the \n",
    "- bmi(body mass index ) correlated with chargesi.e our target variable\n",
    "- Pattern of increasing charges from age vs charge\n",
    "- smoker and charges are strongly correlated "
   ]
  },
  {
   "cell_type": "markdown",
   "id": "073843ea",
   "metadata": {},
   "source": [
    "# Step:3 Data Preparation"
   ]
  },
  {
   "cell_type": "code",
   "execution_count": 70,
   "id": "9d646cda",
   "metadata": {},
   "outputs": [
    {
     "data": {
      "text/html": [
       "<div>\n",
       "<style scoped>\n",
       "    .dataframe tbody tr th:only-of-type {\n",
       "        vertical-align: middle;\n",
       "    }\n",
       "\n",
       "    .dataframe tbody tr th {\n",
       "        vertical-align: top;\n",
       "    }\n",
       "\n",
       "    .dataframe thead th {\n",
       "        text-align: right;\n",
       "    }\n",
       "</style>\n",
       "<table border=\"1\" class=\"dataframe\">\n",
       "  <thead>\n",
       "    <tr style=\"text-align: right;\">\n",
       "      <th></th>\n",
       "      <th>age</th>\n",
       "      <th>sex</th>\n",
       "      <th>bmi</th>\n",
       "      <th>children</th>\n",
       "      <th>smoker</th>\n",
       "      <th>region</th>\n",
       "      <th>charges</th>\n",
       "      <th>Age_lies</th>\n",
       "    </tr>\n",
       "  </thead>\n",
       "  <tbody>\n",
       "    <tr>\n",
       "      <th>0</th>\n",
       "      <td>19</td>\n",
       "      <td>1</td>\n",
       "      <td>27.90</td>\n",
       "      <td>0</td>\n",
       "      <td>1</td>\n",
       "      <td>southwest</td>\n",
       "      <td>16884.9240</td>\n",
       "      <td>Young person</td>\n",
       "    </tr>\n",
       "    <tr>\n",
       "      <th>1</th>\n",
       "      <td>18</td>\n",
       "      <td>0</td>\n",
       "      <td>33.77</td>\n",
       "      <td>1</td>\n",
       "      <td>0</td>\n",
       "      <td>southeast</td>\n",
       "      <td>1725.5523</td>\n",
       "      <td>Young person</td>\n",
       "    </tr>\n",
       "    <tr>\n",
       "      <th>2</th>\n",
       "      <td>28</td>\n",
       "      <td>0</td>\n",
       "      <td>33.00</td>\n",
       "      <td>3</td>\n",
       "      <td>0</td>\n",
       "      <td>southeast</td>\n",
       "      <td>4449.4620</td>\n",
       "      <td>Young person</td>\n",
       "    </tr>\n",
       "  </tbody>\n",
       "</table>\n",
       "</div>"
      ],
      "text/plain": [
       "   age  sex    bmi  children  smoker     region     charges      Age_lies\n",
       "0   19    1  27.90         0       1  southwest  16884.9240  Young person\n",
       "1   18    0  33.77         1       0  southeast   1725.5523  Young person\n",
       "2   28    0  33.00         3       0  southeast   4449.4620  Young person"
      ]
     },
     "execution_count": 70,
     "metadata": {},
     "output_type": "execute_result"
    }
   ],
   "source": [
    "medical_need_df.head(3)"
   ]
  },
  {
   "cell_type": "code",
   "execution_count": 76,
   "id": "d67e609b",
   "metadata": {},
   "outputs": [
    {
     "data": {
      "text/plain": [
       "(1338, 14)"
      ]
     },
     "execution_count": 76,
     "metadata": {},
     "output_type": "execute_result"
    }
   ],
   "source": [
    "medical_need_df.shape"
   ]
  },
  {
   "cell_type": "code",
   "execution_count": 71,
   "id": "41735331",
   "metadata": {},
   "outputs": [],
   "source": [
    "#The get_dummies function is used to convert categorical variables into dummy or indicator variables. A dummy or indicator variable can have a value of 0 or 1.\n",
    "#get dummy variables region and age range\n",
    "region = pd.get_dummies( medical_need_df.region, drop_first = True)\n",
    "Age_lies = pd.get_dummies( medical_need_df.Age_lies, drop_first = True)\n",
    "children = pd.get_dummies(medical_need_df.children,drop_first=True,prefix='children' )"
   ]
  },
  {
   "cell_type": "code",
   "execution_count": 72,
   "id": "d47cebcb",
   "metadata": {},
   "outputs": [
    {
     "data": {
      "text/html": [
       "<div>\n",
       "<style scoped>\n",
       "    .dataframe tbody tr th:only-of-type {\n",
       "        vertical-align: middle;\n",
       "    }\n",
       "\n",
       "    .dataframe tbody tr th {\n",
       "        vertical-align: top;\n",
       "    }\n",
       "\n",
       "    .dataframe thead th {\n",
       "        text-align: right;\n",
       "    }\n",
       "</style>\n",
       "<table border=\"1\" class=\"dataframe\">\n",
       "  <thead>\n",
       "    <tr style=\"text-align: right;\">\n",
       "      <th></th>\n",
       "      <th>northwest</th>\n",
       "      <th>southeast</th>\n",
       "      <th>southwest</th>\n",
       "      <th>Senior person</th>\n",
       "      <th>Elder person</th>\n",
       "      <th>children_1</th>\n",
       "      <th>children_2</th>\n",
       "      <th>children_3</th>\n",
       "      <th>children_4</th>\n",
       "      <th>children_5</th>\n",
       "      <th>age</th>\n",
       "      <th>sex</th>\n",
       "      <th>bmi</th>\n",
       "      <th>children</th>\n",
       "      <th>smoker</th>\n",
       "      <th>region</th>\n",
       "      <th>charges</th>\n",
       "      <th>Age_lies</th>\n",
       "    </tr>\n",
       "  </thead>\n",
       "  <tbody>\n",
       "    <tr>\n",
       "      <th>0</th>\n",
       "      <td>0</td>\n",
       "      <td>0</td>\n",
       "      <td>1</td>\n",
       "      <td>0</td>\n",
       "      <td>0</td>\n",
       "      <td>0</td>\n",
       "      <td>0</td>\n",
       "      <td>0</td>\n",
       "      <td>0</td>\n",
       "      <td>0</td>\n",
       "      <td>19</td>\n",
       "      <td>1</td>\n",
       "      <td>27.900</td>\n",
       "      <td>0</td>\n",
       "      <td>1</td>\n",
       "      <td>southwest</td>\n",
       "      <td>16884.92400</td>\n",
       "      <td>Young person</td>\n",
       "    </tr>\n",
       "    <tr>\n",
       "      <th>1</th>\n",
       "      <td>0</td>\n",
       "      <td>1</td>\n",
       "      <td>0</td>\n",
       "      <td>0</td>\n",
       "      <td>0</td>\n",
       "      <td>1</td>\n",
       "      <td>0</td>\n",
       "      <td>0</td>\n",
       "      <td>0</td>\n",
       "      <td>0</td>\n",
       "      <td>18</td>\n",
       "      <td>0</td>\n",
       "      <td>33.770</td>\n",
       "      <td>1</td>\n",
       "      <td>0</td>\n",
       "      <td>southeast</td>\n",
       "      <td>1725.55230</td>\n",
       "      <td>Young person</td>\n",
       "    </tr>\n",
       "    <tr>\n",
       "      <th>2</th>\n",
       "      <td>0</td>\n",
       "      <td>1</td>\n",
       "      <td>0</td>\n",
       "      <td>0</td>\n",
       "      <td>0</td>\n",
       "      <td>0</td>\n",
       "      <td>0</td>\n",
       "      <td>1</td>\n",
       "      <td>0</td>\n",
       "      <td>0</td>\n",
       "      <td>28</td>\n",
       "      <td>0</td>\n",
       "      <td>33.000</td>\n",
       "      <td>3</td>\n",
       "      <td>0</td>\n",
       "      <td>southeast</td>\n",
       "      <td>4449.46200</td>\n",
       "      <td>Young person</td>\n",
       "    </tr>\n",
       "    <tr>\n",
       "      <th>3</th>\n",
       "      <td>1</td>\n",
       "      <td>0</td>\n",
       "      <td>0</td>\n",
       "      <td>0</td>\n",
       "      <td>0</td>\n",
       "      <td>0</td>\n",
       "      <td>0</td>\n",
       "      <td>0</td>\n",
       "      <td>0</td>\n",
       "      <td>0</td>\n",
       "      <td>33</td>\n",
       "      <td>0</td>\n",
       "      <td>22.705</td>\n",
       "      <td>0</td>\n",
       "      <td>0</td>\n",
       "      <td>northwest</td>\n",
       "      <td>21984.47061</td>\n",
       "      <td>Young person</td>\n",
       "    </tr>\n",
       "    <tr>\n",
       "      <th>4</th>\n",
       "      <td>1</td>\n",
       "      <td>0</td>\n",
       "      <td>0</td>\n",
       "      <td>0</td>\n",
       "      <td>0</td>\n",
       "      <td>0</td>\n",
       "      <td>0</td>\n",
       "      <td>0</td>\n",
       "      <td>0</td>\n",
       "      <td>0</td>\n",
       "      <td>32</td>\n",
       "      <td>0</td>\n",
       "      <td>28.880</td>\n",
       "      <td>0</td>\n",
       "      <td>0</td>\n",
       "      <td>northwest</td>\n",
       "      <td>3866.85520</td>\n",
       "      <td>Young person</td>\n",
       "    </tr>\n",
       "  </tbody>\n",
       "</table>\n",
       "</div>"
      ],
      "text/plain": [
       "   northwest  southeast  southwest  Senior person  Elder person  children_1  \\\n",
       "0          0          0          1              0             0           0   \n",
       "1          0          1          0              0             0           1   \n",
       "2          0          1          0              0             0           0   \n",
       "3          1          0          0              0             0           0   \n",
       "4          1          0          0              0             0           0   \n",
       "\n",
       "   children_2  children_3  children_4  children_5  age  sex     bmi  children  \\\n",
       "0           0           0           0           0   19    1  27.900         0   \n",
       "1           0           0           0           0   18    0  33.770         1   \n",
       "2           0           1           0           0   28    0  33.000         3   \n",
       "3           0           0           0           0   33    0  22.705         0   \n",
       "4           0           0           0           0   32    0  28.880         0   \n",
       "\n",
       "   smoker     region      charges      Age_lies  \n",
       "0       1  southwest  16884.92400  Young person  \n",
       "1       0  southeast   1725.55230  Young person  \n",
       "2       0  southeast   4449.46200  Young person  \n",
       "3       0  northwest  21984.47061  Young person  \n",
       "4       0  northwest   3866.85520  Young person  "
      ]
     },
     "execution_count": 72,
     "metadata": {},
     "output_type": "execute_result"
    }
   ],
   "source": [
    "#adding to original dataframe\n",
    "medical_need_df = pd.concat([region,Age_lies,children,medical_need_df],axis=1)\n",
    "medical_need_df.head()"
   ]
  },
  {
   "cell_type": "code",
   "execution_count": 73,
   "id": "b218edf9",
   "metadata": {},
   "outputs": [
    {
     "data": {
      "text/html": [
       "<div>\n",
       "<style scoped>\n",
       "    .dataframe tbody tr th:only-of-type {\n",
       "        vertical-align: middle;\n",
       "    }\n",
       "\n",
       "    .dataframe tbody tr th {\n",
       "        vertical-align: top;\n",
       "    }\n",
       "\n",
       "    .dataframe thead th {\n",
       "        text-align: right;\n",
       "    }\n",
       "</style>\n",
       "<table border=\"1\" class=\"dataframe\">\n",
       "  <thead>\n",
       "    <tr style=\"text-align: right;\">\n",
       "      <th></th>\n",
       "      <th>northwest</th>\n",
       "      <th>southeast</th>\n",
       "      <th>southwest</th>\n",
       "      <th>Senior person</th>\n",
       "      <th>Elder person</th>\n",
       "      <th>children_1</th>\n",
       "      <th>children_2</th>\n",
       "      <th>children_3</th>\n",
       "      <th>children_4</th>\n",
       "      <th>children_5</th>\n",
       "      <th>sex</th>\n",
       "      <th>bmi</th>\n",
       "      <th>smoker</th>\n",
       "      <th>charges</th>\n",
       "    </tr>\n",
       "  </thead>\n",
       "  <tbody>\n",
       "    <tr>\n",
       "      <th>0</th>\n",
       "      <td>0</td>\n",
       "      <td>0</td>\n",
       "      <td>1</td>\n",
       "      <td>0</td>\n",
       "      <td>0</td>\n",
       "      <td>0</td>\n",
       "      <td>0</td>\n",
       "      <td>0</td>\n",
       "      <td>0</td>\n",
       "      <td>0</td>\n",
       "      <td>1</td>\n",
       "      <td>27.900</td>\n",
       "      <td>1</td>\n",
       "      <td>16884.92400</td>\n",
       "    </tr>\n",
       "    <tr>\n",
       "      <th>1</th>\n",
       "      <td>0</td>\n",
       "      <td>1</td>\n",
       "      <td>0</td>\n",
       "      <td>0</td>\n",
       "      <td>0</td>\n",
       "      <td>1</td>\n",
       "      <td>0</td>\n",
       "      <td>0</td>\n",
       "      <td>0</td>\n",
       "      <td>0</td>\n",
       "      <td>0</td>\n",
       "      <td>33.770</td>\n",
       "      <td>0</td>\n",
       "      <td>1725.55230</td>\n",
       "    </tr>\n",
       "    <tr>\n",
       "      <th>2</th>\n",
       "      <td>0</td>\n",
       "      <td>1</td>\n",
       "      <td>0</td>\n",
       "      <td>0</td>\n",
       "      <td>0</td>\n",
       "      <td>0</td>\n",
       "      <td>0</td>\n",
       "      <td>1</td>\n",
       "      <td>0</td>\n",
       "      <td>0</td>\n",
       "      <td>0</td>\n",
       "      <td>33.000</td>\n",
       "      <td>0</td>\n",
       "      <td>4449.46200</td>\n",
       "    </tr>\n",
       "    <tr>\n",
       "      <th>3</th>\n",
       "      <td>1</td>\n",
       "      <td>0</td>\n",
       "      <td>0</td>\n",
       "      <td>0</td>\n",
       "      <td>0</td>\n",
       "      <td>0</td>\n",
       "      <td>0</td>\n",
       "      <td>0</td>\n",
       "      <td>0</td>\n",
       "      <td>0</td>\n",
       "      <td>0</td>\n",
       "      <td>22.705</td>\n",
       "      <td>0</td>\n",
       "      <td>21984.47061</td>\n",
       "    </tr>\n",
       "    <tr>\n",
       "      <th>4</th>\n",
       "      <td>1</td>\n",
       "      <td>0</td>\n",
       "      <td>0</td>\n",
       "      <td>0</td>\n",
       "      <td>0</td>\n",
       "      <td>0</td>\n",
       "      <td>0</td>\n",
       "      <td>0</td>\n",
       "      <td>0</td>\n",
       "      <td>0</td>\n",
       "      <td>0</td>\n",
       "      <td>28.880</td>\n",
       "      <td>0</td>\n",
       "      <td>3866.85520</td>\n",
       "    </tr>\n",
       "  </tbody>\n",
       "</table>\n",
       "</div>"
      ],
      "text/plain": [
       "   northwest  southeast  southwest  Senior person  Elder person  children_1  \\\n",
       "0          0          0          1              0             0           0   \n",
       "1          0          1          0              0             0           1   \n",
       "2          0          1          0              0             0           0   \n",
       "3          1          0          0              0             0           0   \n",
       "4          1          0          0              0             0           0   \n",
       "\n",
       "   children_2  children_3  children_4  children_5  sex     bmi  smoker  \\\n",
       "0           0           0           0           0    1  27.900       1   \n",
       "1           0           0           0           0    0  33.770       0   \n",
       "2           0           1           0           0    0  33.000       0   \n",
       "3           0           0           0           0    0  22.705       0   \n",
       "4           0           0           0           0    0  28.880       0   \n",
       "\n",
       "       charges  \n",
       "0  16884.92400  \n",
       "1   1725.55230  \n",
       "2   4449.46200  \n",
       "3  21984.47061  \n",
       "4   3866.85520  "
      ]
     },
     "execution_count": 73,
     "metadata": {},
     "output_type": "execute_result"
    }
   ],
   "source": [
    "medical_need_df.drop(['region','Age_lies','children','age'],axis=1,inplace=True)\n",
    "medical_need_df.head()"
   ]
  },
  {
   "cell_type": "code",
   "execution_count": 75,
   "id": "3db6184b",
   "metadata": {},
   "outputs": [
    {
     "data": {
      "text/plain": [
       "(1338, 14)"
      ]
     },
     "execution_count": 75,
     "metadata": {},
     "output_type": "execute_result"
    }
   ],
   "source": [
    "medical_need_df.shape"
   ]
  },
  {
   "cell_type": "code",
   "execution_count": 80,
   "id": "4949d5d6",
   "metadata": {},
   "outputs": [
    {
     "data": {
      "image/png": "[encoded data removed]",
      "text/plain": [
       "<Figure size 1080x720 with 2 Axes>"
      ]
     },
     "metadata": {
      "needs_background": "light"
     },
     "output_type": "display_data"
    }
   ],
   "source": [
    "#correlation between variables\n",
    "plt.figure(figsize=(15,10))\n",
    "sns.heatmap(medical_need_df.corr(), annot=True)\n",
    "plt.title(\"Correlation between Variables\")\n",
    "plt.show()"
   ]
  },
  {
   "cell_type": "markdown",
   "id": "7093f4e3",
   "metadata": {},
   "source": [
    "# Step 4: Splitting the data into training and testing set"
   ]
  },
  {
   "cell_type": "code",
   "execution_count": 81,
   "id": "71f92874",
   "metadata": {},
   "outputs": [],
   "source": [
    "from sklearn.model_selection import train_test_split\n",
    "medical_need_train,medical_need__test = train_test_split(medical_need_df,train_size=0.7,random_state=100)"
   ]
  },
  {
   "cell_type": "code",
   "execution_count": 82,
   "id": "ce327089",
   "metadata": {},
   "outputs": [
    {
     "name": "stdout",
     "output_type": "stream",
     "text": [
      "(936, 14)\n",
      "(402, 14)\n"
     ]
    }
   ],
   "source": [
    "print(medical_need_train.shape)\n",
    "print(medical_need__test.shape)"
   ]
  },
  {
   "cell_type": "markdown",
   "id": "fd4dd15a",
   "metadata": {},
   "source": [
    "# Min-Max Scaling\n",
    "from sklearn.preprocessing import MinMaxScaler"
   ]
  },
  {
   "cell_type": "code",
   "execution_count": 84,
   "id": "7efeb050",
   "metadata": {},
   "outputs": [],
   "source": [
    "from sklearn.preprocessing import MinMaxScaler"
   ]
  },
  {
   "cell_type": "code",
   "execution_count": 85,
   "id": "5a98120a",
   "metadata": {},
   "outputs": [
    {
     "data": {
      "text/html": [
       "<div>\n",
       "<style scoped>\n",
       "    .dataframe tbody tr th:only-of-type {\n",
       "        vertical-align: middle;\n",
       "    }\n",
       "\n",
       "    .dataframe tbody tr th {\n",
       "        vertical-align: top;\n",
       "    }\n",
       "\n",
       "    .dataframe thead th {\n",
       "        text-align: right;\n",
       "    }\n",
       "</style>\n",
       "<table border=\"1\" class=\"dataframe\">\n",
       "  <thead>\n",
       "    <tr style=\"text-align: right;\">\n",
       "      <th></th>\n",
       "      <th>northwest</th>\n",
       "      <th>southeast</th>\n",
       "      <th>southwest</th>\n",
       "      <th>Senior person</th>\n",
       "      <th>Elder person</th>\n",
       "      <th>children_1</th>\n",
       "      <th>children_2</th>\n",
       "      <th>children_3</th>\n",
       "      <th>children_4</th>\n",
       "      <th>children_5</th>\n",
       "      <th>sex</th>\n",
       "      <th>bmi</th>\n",
       "      <th>smoker</th>\n",
       "      <th>charges</th>\n",
       "    </tr>\n",
       "  </thead>\n",
       "  <tbody>\n",
       "    <tr>\n",
       "      <th>0</th>\n",
       "      <td>0</td>\n",
       "      <td>0</td>\n",
       "      <td>1</td>\n",
       "      <td>0</td>\n",
       "      <td>0</td>\n",
       "      <td>0</td>\n",
       "      <td>0</td>\n",
       "      <td>0</td>\n",
       "      <td>0</td>\n",
       "      <td>0</td>\n",
       "      <td>1</td>\n",
       "      <td>27.900</td>\n",
       "      <td>1</td>\n",
       "      <td>16884.92400</td>\n",
       "    </tr>\n",
       "    <tr>\n",
       "      <th>1</th>\n",
       "      <td>0</td>\n",
       "      <td>1</td>\n",
       "      <td>0</td>\n",
       "      <td>0</td>\n",
       "      <td>0</td>\n",
       "      <td>1</td>\n",
       "      <td>0</td>\n",
       "      <td>0</td>\n",
       "      <td>0</td>\n",
       "      <td>0</td>\n",
       "      <td>0</td>\n",
       "      <td>33.770</td>\n",
       "      <td>0</td>\n",
       "      <td>1725.55230</td>\n",
       "    </tr>\n",
       "    <tr>\n",
       "      <th>2</th>\n",
       "      <td>0</td>\n",
       "      <td>1</td>\n",
       "      <td>0</td>\n",
       "      <td>0</td>\n",
       "      <td>0</td>\n",
       "      <td>0</td>\n",
       "      <td>0</td>\n",
       "      <td>1</td>\n",
       "      <td>0</td>\n",
       "      <td>0</td>\n",
       "      <td>0</td>\n",
       "      <td>33.000</td>\n",
       "      <td>0</td>\n",
       "      <td>4449.46200</td>\n",
       "    </tr>\n",
       "    <tr>\n",
       "      <th>3</th>\n",
       "      <td>1</td>\n",
       "      <td>0</td>\n",
       "      <td>0</td>\n",
       "      <td>0</td>\n",
       "      <td>0</td>\n",
       "      <td>0</td>\n",
       "      <td>0</td>\n",
       "      <td>0</td>\n",
       "      <td>0</td>\n",
       "      <td>0</td>\n",
       "      <td>0</td>\n",
       "      <td>22.705</td>\n",
       "      <td>0</td>\n",
       "      <td>21984.47061</td>\n",
       "    </tr>\n",
       "    <tr>\n",
       "      <th>4</th>\n",
       "      <td>1</td>\n",
       "      <td>0</td>\n",
       "      <td>0</td>\n",
       "      <td>0</td>\n",
       "      <td>0</td>\n",
       "      <td>0</td>\n",
       "      <td>0</td>\n",
       "      <td>0</td>\n",
       "      <td>0</td>\n",
       "      <td>0</td>\n",
       "      <td>0</td>\n",
       "      <td>28.880</td>\n",
       "      <td>0</td>\n",
       "      <td>3866.85520</td>\n",
       "    </tr>\n",
       "  </tbody>\n",
       "</table>\n",
       "</div>"
      ],
      "text/plain": [
       "   northwest  southeast  southwest  Senior person  Elder person  children_1  \\\n",
       "0          0          0          1              0             0           0   \n",
       "1          0          1          0              0             0           1   \n",
       "2          0          1          0              0             0           0   \n",
       "3          1          0          0              0             0           0   \n",
       "4          1          0          0              0             0           0   \n",
       "\n",
       "   children_2  children_3  children_4  children_5  sex     bmi  smoker  \\\n",
       "0           0           0           0           0    1  27.900       1   \n",
       "1           0           0           0           0    0  33.770       0   \n",
       "2           0           1           0           0    0  33.000       0   \n",
       "3           0           0           0           0    0  22.705       0   \n",
       "4           0           0           0           0    0  28.880       0   \n",
       "\n",
       "       charges  \n",
       "0  16884.92400  \n",
       "1   1725.55230  \n",
       "2   4449.46200  \n",
       "3  21984.47061  \n",
       "4   3866.85520  "
      ]
     },
     "execution_count": 85,
     "metadata": {},
     "output_type": "execute_result"
    }
   ],
   "source": [
    "medical_need_df.head()"
   ]
  },
  {
   "cell_type": "code",
   "execution_count": 87,
   "id": "ab984838",
   "metadata": {},
   "outputs": [
    {
     "data": {
      "text/html": [
       "<div>\n",
       "<style scoped>\n",
       "    .dataframe tbody tr th:only-of-type {\n",
       "        vertical-align: middle;\n",
       "    }\n",
       "\n",
       "    .dataframe tbody tr th {\n",
       "        vertical-align: top;\n",
       "    }\n",
       "\n",
       "    .dataframe thead th {\n",
       "        text-align: right;\n",
       "    }\n",
       "</style>\n",
       "<table border=\"1\" class=\"dataframe\">\n",
       "  <thead>\n",
       "    <tr style=\"text-align: right;\">\n",
       "      <th></th>\n",
       "      <th>northwest</th>\n",
       "      <th>southeast</th>\n",
       "      <th>southwest</th>\n",
       "      <th>Senior person</th>\n",
       "      <th>Elder person</th>\n",
       "      <th>children_1</th>\n",
       "      <th>children_2</th>\n",
       "      <th>children_3</th>\n",
       "      <th>children_4</th>\n",
       "      <th>children_5</th>\n",
       "      <th>sex</th>\n",
       "      <th>bmi</th>\n",
       "      <th>smoker</th>\n",
       "      <th>charges</th>\n",
       "    </tr>\n",
       "  </thead>\n",
       "  <tbody>\n",
       "    <tr>\n",
       "      <th>966</th>\n",
       "      <td>1</td>\n",
       "      <td>0</td>\n",
       "      <td>0</td>\n",
       "      <td>1</td>\n",
       "      <td>0</td>\n",
       "      <td>0</td>\n",
       "      <td>1</td>\n",
       "      <td>0</td>\n",
       "      <td>0</td>\n",
       "      <td>0</td>\n",
       "      <td>0</td>\n",
       "      <td>0.237692</td>\n",
       "      <td>1</td>\n",
       "      <td>0.364661</td>\n",
       "    </tr>\n",
       "    <tr>\n",
       "      <th>522</th>\n",
       "      <td>0</td>\n",
       "      <td>0</td>\n",
       "      <td>0</td>\n",
       "      <td>1</td>\n",
       "      <td>0</td>\n",
       "      <td>0</td>\n",
       "      <td>0</td>\n",
       "      <td>0</td>\n",
       "      <td>0</td>\n",
       "      <td>0</td>\n",
       "      <td>1</td>\n",
       "      <td>0.483051</td>\n",
       "      <td>0</td>\n",
       "      <td>0.139579</td>\n",
       "    </tr>\n",
       "    <tr>\n",
       "      <th>155</th>\n",
       "      <td>1</td>\n",
       "      <td>0</td>\n",
       "      <td>0</td>\n",
       "      <td>1</td>\n",
       "      <td>0</td>\n",
       "      <td>0</td>\n",
       "      <td>0</td>\n",
       "      <td>0</td>\n",
       "      <td>0</td>\n",
       "      <td>0</td>\n",
       "      <td>0</td>\n",
       "      <td>0.633844</td>\n",
       "      <td>0</td>\n",
       "      <td>0.093008</td>\n",
       "    </tr>\n",
       "    <tr>\n",
       "      <th>671</th>\n",
       "      <td>0</td>\n",
       "      <td>0</td>\n",
       "      <td>0</td>\n",
       "      <td>0</td>\n",
       "      <td>0</td>\n",
       "      <td>0</td>\n",
       "      <td>0</td>\n",
       "      <td>0</td>\n",
       "      <td>0</td>\n",
       "      <td>0</td>\n",
       "      <td>1</td>\n",
       "      <td>0.408932</td>\n",
       "      <td>0</td>\n",
       "      <td>0.045040</td>\n",
       "    </tr>\n",
       "    <tr>\n",
       "      <th>1173</th>\n",
       "      <td>1</td>\n",
       "      <td>0</td>\n",
       "      <td>0</td>\n",
       "      <td>1</td>\n",
       "      <td>0</td>\n",
       "      <td>0</td>\n",
       "      <td>1</td>\n",
       "      <td>0</td>\n",
       "      <td>0</td>\n",
       "      <td>0</td>\n",
       "      <td>0</td>\n",
       "      <td>0.357815</td>\n",
       "      <td>0</td>\n",
       "      <td>0.085173</td>\n",
       "    </tr>\n",
       "  </tbody>\n",
       "</table>\n",
       "</div>"
      ],
      "text/plain": [
       "      northwest  southeast  southwest  Senior person  Elder person  \\\n",
       "966           1          0          0              1             0   \n",
       "522           0          0          0              1             0   \n",
       "155           1          0          0              1             0   \n",
       "671           0          0          0              0             0   \n",
       "1173          1          0          0              1             0   \n",
       "\n",
       "      children_1  children_2  children_3  children_4  children_5  sex  \\\n",
       "966            0           1           0           0           0    0   \n",
       "522            0           0           0           0           0    1   \n",
       "155            0           0           0           0           0    0   \n",
       "671            0           0           0           0           0    1   \n",
       "1173           0           1           0           0           0    0   \n",
       "\n",
       "           bmi  smoker   charges  \n",
       "966   0.237692       1  0.364661  \n",
       "522   0.483051       0  0.139579  \n",
       "155   0.633844       0  0.093008  \n",
       "671   0.408932       0  0.045040  \n",
       "1173  0.357815       0  0.085173  "
      ]
     },
     "execution_count": 87,
     "metadata": {},
     "output_type": "execute_result"
    }
   ],
   "source": [
    "#object instantiation\n",
    "scaler = MinMaxScaler()\n",
    "\n",
    "#create a list of umeric variables\n",
    "num_vars =['bmi','charges']\n",
    "#Fit on data\n",
    "medical_need_train[num_vars] = scaler.fit_transform(medical_need_train[num_vars])\n",
    "medical_need_train.head()"
   ]
  },
  {
   "cell_type": "code",
   "execution_count": 88,
   "id": "c13b229c",
   "metadata": {},
   "outputs": [],
   "source": [
    "#Sepearting data inti X and Y\n",
    "y_train = medical_need_train.pop('charges')\n",
    "X_train = medical_need_train"
   ]
  },
  {
   "cell_type": "code",
   "execution_count": 89,
   "id": "9f432c18",
   "metadata": {},
   "outputs": [
    {
     "data": {
      "text/plain": [
       "966     0.364661\n",
       "522     0.139579\n",
       "155     0.093008\n",
       "671     0.045040\n",
       "1173    0.085173\n",
       "          ...   \n",
       "802     0.015662\n",
       "53      0.584542\n",
       "350     0.170933\n",
       "79      0.086980\n",
       "792     0.025700\n",
       "Name: charges, Length: 936, dtype: float64"
      ]
     },
     "execution_count": 89,
     "metadata": {},
     "output_type": "execute_result"
    }
   ],
   "source": [
    "y_train"
   ]
  },
  {
   "cell_type": "code",
   "execution_count": 90,
   "id": "3367bfa8",
   "metadata": {},
   "outputs": [
    {
     "data": {
      "text/html": [
       "<div>\n",
       "<style scoped>\n",
       "    .dataframe tbody tr th:only-of-type {\n",
       "        vertical-align: middle;\n",
       "    }\n",
       "\n",
       "    .dataframe tbody tr th {\n",
       "        vertical-align: top;\n",
       "    }\n",
       "\n",
       "    .dataframe thead th {\n",
       "        text-align: right;\n",
       "    }\n",
       "</style>\n",
       "<table border=\"1\" class=\"dataframe\">\n",
       "  <thead>\n",
       "    <tr style=\"text-align: right;\">\n",
       "      <th></th>\n",
       "      <th>northwest</th>\n",
       "      <th>southeast</th>\n",
       "      <th>southwest</th>\n",
       "      <th>Senior person</th>\n",
       "      <th>Elder person</th>\n",
       "      <th>children_1</th>\n",
       "      <th>children_2</th>\n",
       "      <th>children_3</th>\n",
       "      <th>children_4</th>\n",
       "      <th>children_5</th>\n",
       "      <th>sex</th>\n",
       "      <th>bmi</th>\n",
       "      <th>smoker</th>\n",
       "    </tr>\n",
       "  </thead>\n",
       "  <tbody>\n",
       "    <tr>\n",
       "      <th>966</th>\n",
       "      <td>1</td>\n",
       "      <td>0</td>\n",
       "      <td>0</td>\n",
       "      <td>1</td>\n",
       "      <td>0</td>\n",
       "      <td>0</td>\n",
       "      <td>1</td>\n",
       "      <td>0</td>\n",
       "      <td>0</td>\n",
       "      <td>0</td>\n",
       "      <td>0</td>\n",
       "      <td>0.237692</td>\n",
       "      <td>1</td>\n",
       "    </tr>\n",
       "    <tr>\n",
       "      <th>522</th>\n",
       "      <td>0</td>\n",
       "      <td>0</td>\n",
       "      <td>0</td>\n",
       "      <td>1</td>\n",
       "      <td>0</td>\n",
       "      <td>0</td>\n",
       "      <td>0</td>\n",
       "      <td>0</td>\n",
       "      <td>0</td>\n",
       "      <td>0</td>\n",
       "      <td>1</td>\n",
       "      <td>0.483051</td>\n",
       "      <td>0</td>\n",
       "    </tr>\n",
       "    <tr>\n",
       "      <th>155</th>\n",
       "      <td>1</td>\n",
       "      <td>0</td>\n",
       "      <td>0</td>\n",
       "      <td>1</td>\n",
       "      <td>0</td>\n",
       "      <td>0</td>\n",
       "      <td>0</td>\n",
       "      <td>0</td>\n",
       "      <td>0</td>\n",
       "      <td>0</td>\n",
       "      <td>0</td>\n",
       "      <td>0.633844</td>\n",
       "      <td>0</td>\n",
       "    </tr>\n",
       "    <tr>\n",
       "      <th>671</th>\n",
       "      <td>0</td>\n",
       "      <td>0</td>\n",
       "      <td>0</td>\n",
       "      <td>0</td>\n",
       "      <td>0</td>\n",
       "      <td>0</td>\n",
       "      <td>0</td>\n",
       "      <td>0</td>\n",
       "      <td>0</td>\n",
       "      <td>0</td>\n",
       "      <td>1</td>\n",
       "      <td>0.408932</td>\n",
       "      <td>0</td>\n",
       "    </tr>\n",
       "    <tr>\n",
       "      <th>1173</th>\n",
       "      <td>1</td>\n",
       "      <td>0</td>\n",
       "      <td>0</td>\n",
       "      <td>1</td>\n",
       "      <td>0</td>\n",
       "      <td>0</td>\n",
       "      <td>1</td>\n",
       "      <td>0</td>\n",
       "      <td>0</td>\n",
       "      <td>0</td>\n",
       "      <td>0</td>\n",
       "      <td>0.357815</td>\n",
       "      <td>0</td>\n",
       "    </tr>\n",
       "    <tr>\n",
       "      <th>...</th>\n",
       "      <td>...</td>\n",
       "      <td>...</td>\n",
       "      <td>...</td>\n",
       "      <td>...</td>\n",
       "      <td>...</td>\n",
       "      <td>...</td>\n",
       "      <td>...</td>\n",
       "      <td>...</td>\n",
       "      <td>...</td>\n",
       "      <td>...</td>\n",
       "      <td>...</td>\n",
       "      <td>...</td>\n",
       "      <td>...</td>\n",
       "    </tr>\n",
       "    <tr>\n",
       "      <th>802</th>\n",
       "      <td>0</td>\n",
       "      <td>0</td>\n",
       "      <td>1</td>\n",
       "      <td>0</td>\n",
       "      <td>0</td>\n",
       "      <td>1</td>\n",
       "      <td>0</td>\n",
       "      <td>0</td>\n",
       "      <td>0</td>\n",
       "      <td>0</td>\n",
       "      <td>0</td>\n",
       "      <td>0.170568</td>\n",
       "      <td>0</td>\n",
       "    </tr>\n",
       "    <tr>\n",
       "      <th>53</th>\n",
       "      <td>0</td>\n",
       "      <td>1</td>\n",
       "      <td>0</td>\n",
       "      <td>1</td>\n",
       "      <td>0</td>\n",
       "      <td>0</td>\n",
       "      <td>0</td>\n",
       "      <td>0</td>\n",
       "      <td>0</td>\n",
       "      <td>0</td>\n",
       "      <td>0</td>\n",
       "      <td>0.496906</td>\n",
       "      <td>1</td>\n",
       "    </tr>\n",
       "    <tr>\n",
       "      <th>350</th>\n",
       "      <td>1</td>\n",
       "      <td>0</td>\n",
       "      <td>0</td>\n",
       "      <td>0</td>\n",
       "      <td>1</td>\n",
       "      <td>0</td>\n",
       "      <td>0</td>\n",
       "      <td>0</td>\n",
       "      <td>0</td>\n",
       "      <td>0</td>\n",
       "      <td>1</td>\n",
       "      <td>0.194243</td>\n",
       "      <td>0</td>\n",
       "    </tr>\n",
       "    <tr>\n",
       "      <th>79</th>\n",
       "      <td>1</td>\n",
       "      <td>0</td>\n",
       "      <td>0</td>\n",
       "      <td>1</td>\n",
       "      <td>0</td>\n",
       "      <td>0</td>\n",
       "      <td>0</td>\n",
       "      <td>0</td>\n",
       "      <td>0</td>\n",
       "      <td>0</td>\n",
       "      <td>1</td>\n",
       "      <td>0.457493</td>\n",
       "      <td>0</td>\n",
       "    </tr>\n",
       "    <tr>\n",
       "      <th>792</th>\n",
       "      <td>0</td>\n",
       "      <td>0</td>\n",
       "      <td>0</td>\n",
       "      <td>0</td>\n",
       "      <td>0</td>\n",
       "      <td>0</td>\n",
       "      <td>0</td>\n",
       "      <td>0</td>\n",
       "      <td>0</td>\n",
       "      <td>0</td>\n",
       "      <td>1</td>\n",
       "      <td>0.194243</td>\n",
       "      <td>0</td>\n",
       "    </tr>\n",
       "  </tbody>\n",
       "</table>\n",
       "<p>936 rows × 13 columns</p>\n",
       "</div>"
      ],
      "text/plain": [
       "      northwest  southeast  southwest  Senior person  Elder person  \\\n",
       "966           1          0          0              1             0   \n",
       "522           0          0          0              1             0   \n",
       "155           1          0          0              1             0   \n",
       "671           0          0          0              0             0   \n",
       "1173          1          0          0              1             0   \n",
       "...         ...        ...        ...            ...           ...   \n",
       "802           0          0          1              0             0   \n",
       "53            0          1          0              1             0   \n",
       "350           1          0          0              0             1   \n",
       "79            1          0          0              1             0   \n",
       "792           0          0          0              0             0   \n",
       "\n",
       "      children_1  children_2  children_3  children_4  children_5  sex  \\\n",
       "966            0           1           0           0           0    0   \n",
       "522            0           0           0           0           0    1   \n",
       "155            0           0           0           0           0    0   \n",
       "671            0           0           0           0           0    1   \n",
       "1173           0           1           0           0           0    0   \n",
       "...          ...         ...         ...         ...         ...  ...   \n",
       "802            1           0           0           0           0    0   \n",
       "53             0           0           0           0           0    0   \n",
       "350            0           0           0           0           0    1   \n",
       "79             0           0           0           0           0    1   \n",
       "792            0           0           0           0           0    1   \n",
       "\n",
       "           bmi  smoker  \n",
       "966   0.237692       1  \n",
       "522   0.483051       0  \n",
       "155   0.633844       0  \n",
       "671   0.408932       0  \n",
       "1173  0.357815       0  \n",
       "...        ...     ...  \n",
       "802   0.170568       0  \n",
       "53    0.496906       1  \n",
       "350   0.194243       0  \n",
       "79    0.457493       0  \n",
       "792   0.194243       0  \n",
       "\n",
       "[936 rows x 13 columns]"
      ]
     },
     "execution_count": 90,
     "metadata": {},
     "output_type": "execute_result"
    }
   ],
   "source": [
    "X_train"
   ]
  },
  {
   "cell_type": "markdown",
   "id": "f1456756",
   "metadata": {},
   "source": [
    "# Step 5:Bulding a Linear Model"
   ]
  },
  {
   "cell_type": "code",
   "execution_count": 91,
   "id": "2a03175b",
   "metadata": {},
   "outputs": [],
   "source": [
    "#import Linear regresion and RFE(Recursive Feature Elimination)\n",
    "from sklearn.feature_selection import RFE\n",
    "from sklearn.linear_model import LinearRegression"
   ]
  },
  {
   "cell_type": "code",
   "execution_count": 103,
   "id": "107c33cf",
   "metadata": {},
   "outputs": [],
   "source": [
    "#Runing REF with the output number of the variable equal to 15\n",
    "lm = LinearRegression()\n",
    "lm.fit(X_train, y_train)\n",
    "selector = RFE(lm, n_features_to_select=8, step=1)\n",
    "selector = selector.fit(X_train,y_train)"
   ]
  },
  {
   "cell_type": "code",
   "execution_count": 106,
   "id": "605bb236",
   "metadata": {},
   "outputs": [
    {
     "data": {
      "text/plain": [
       "[('northwest', False, 4),\n",
       " ('southeast', False, 3),\n",
       " ('southwest', False, 2),\n",
       " ('Senior person', True, 1),\n",
       " ('Elder person', True, 1),\n",
       " ('children_1', False, 5),\n",
       " ('children_2', True, 1),\n",
       " ('children_3', True, 1),\n",
       " ('children_4', True, 1),\n",
       " ('children_5', True, 1),\n",
       " ('sex', False, 6),\n",
       " ('bmi', True, 1),\n",
       " ('smoker', True, 1)]"
      ]
     },
     "execution_count": 106,
     "metadata": {},
     "output_type": "execute_result"
    }
   ],
   "source": [
    "#list of variables selected\n",
    "list(zip(X_train.columns,selector.support_,selector.ranking_))"
   ]
  },
  {
   "cell_type": "code",
   "execution_count": 110,
   "id": "41b7f7d6",
   "metadata": {},
   "outputs": [
    {
     "data": {
      "text/plain": [
       "Index(['Senior person', 'Elder person', 'children_2', 'children_3',\n",
       "       'children_4', 'children_5', 'bmi', 'smoker'],\n",
       "      dtype='object')"
      ]
     },
     "execution_count": 110,
     "metadata": {},
     "output_type": "execute_result"
    }
   ],
   "source": [
    "#Columns where REF support is TRUE\n",
    "col = X_train.columns[selector.support_]\n",
    "col"
   ]
  },
  {
   "cell_type": "code",
   "execution_count": 107,
   "id": "798f38ba",
   "metadata": {},
   "outputs": [
    {
     "data": {
      "text/plain": [
       "Index(['northwest', 'southeast', 'southwest', 'children_1', 'sex'], dtype='object')"
      ]
     },
     "execution_count": 107,
     "metadata": {},
     "output_type": "execute_result"
    }
   ],
   "source": [
    "#coulmns where REF support is false\n",
    "X_train.columns[~selector.support_]"
   ]
  },
  {
   "cell_type": "markdown",
   "id": "2e1af4fd",
   "metadata": {},
   "source": [
    "# Building model using statsmodel,for the detailed statistics"
   ]
  },
  {
   "cell_type": "code",
   "execution_count": 111,
   "id": "6e962ea1",
   "metadata": {},
   "outputs": [],
   "source": [
    "#Creating the X_test dataframe with REF selected variables\n",
    "X_train_rfe = X_train[col]"
   ]
  },
  {
   "cell_type": "code",
   "execution_count": 112,
   "id": "c9ccb1f7",
   "metadata": {},
   "outputs": [],
   "source": [
    "#Adding a constant variable\n",
    "import statsmodels.api as sm\n",
    "X_train_rfe = sm.add_constant(X_train_rfe)"
   ]
  },
  {
   "cell_type": "code",
   "execution_count": 113,
   "id": "b36313f9",
   "metadata": {},
   "outputs": [],
   "source": [
    "#Running the linear model\n",
    "lm = sm.OLS(y_train,X_train_rfe).fit()"
   ]
  },
  {
   "cell_type": "code",
   "execution_count": 115,
   "id": "7b6d756f",
   "metadata": {},
   "outputs": [
    {
     "name": "stdout",
     "output_type": "stream",
     "text": [
      "                            OLS Regression Results                            \n",
      "==============================================================================\n",
      "Dep. Variable:                charges   R-squared:                       0.726\n",
      "Model:                            OLS   Adj. R-squared:                  0.723\n",
      "Method:                 Least Squares   F-statistic:                     306.4\n",
      "Date:                Sat, 15 Apr 2023   Prob (F-statistic):          3.32e-254\n",
      "Time:                        23:31:53   Log-Likelihood:                 813.97\n",
      "No. Observations:                 936   AIC:                            -1610.\n",
      "Df Residuals:                     927   BIC:                            -1566.\n",
      "Df Model:                           8                                         \n",
      "Covariance Type:            nonrobust                                         \n",
      "=================================================================================\n",
      "                    coef    std err          t      P>|t|      [0.025      0.975]\n",
      "---------------------------------------------------------------------------------\n",
      "const            -0.0166      0.009     -1.747      0.081      -0.035       0.002\n",
      "Senior person     0.0764      0.007     10.391      0.000       0.062       0.091\n",
      "Elder person      0.1506      0.010     15.266      0.000       0.131       0.170\n",
      "children_2        0.0299      0.009      3.357      0.001       0.012       0.047\n",
      "children_3        0.0241      0.011      2.275      0.023       0.003       0.045\n",
      "children_4        0.0431      0.023      1.859      0.063      -0.002       0.089\n",
      "children_5        0.0260      0.031      0.836      0.403      -0.035       0.087\n",
      "bmi               0.1744      0.020      8.690      0.000       0.135       0.214\n",
      "smoker            0.3826      0.008     45.327      0.000       0.366       0.399\n",
      "==============================================================================\n",
      "Omnibus:                      225.783   Durbin-Watson:                   2.054\n",
      "Prob(Omnibus):                  0.000   Jarque-Bera (JB):              544.376\n",
      "Skew:                           1.277   Prob(JB):                    6.17e-119\n",
      "Kurtosis:                       5.726   Cond. No.                         11.4\n",
      "==============================================================================\n",
      "\n",
      "Notes:\n",
      "[1] Standard Errors assume that the covariance matrix of the errors is correctly specified.\n"
     ]
    }
   ],
   "source": [
    "print(lm.summary())"
   ]
  },
  {
   "cell_type": "markdown",
   "id": "8a34f493",
   "metadata": {},
   "source": [
    "# Cheaking VIF\n",
    "Variance Inflation Factor or VIF,gives a basic quantitative idea about how much the feature variable are correlated with each other.It is an extremely important parameter to test our linear model. the formula for calculating VIF is \n",
    "VIF = 1/(1-R^2)"
   ]
  },
  {
   "cell_type": "code",
   "execution_count": 116,
   "id": "94074ff7",
   "metadata": {},
   "outputs": [],
   "source": [
    "#Drop the constant term B0\n",
    "X_train_rfe = X_train_rfe.drop(['const'],axis = 1)"
   ]
  },
  {
   "cell_type": "code",
   "execution_count": 117,
   "id": "a0c6c954",
   "metadata": {},
   "outputs": [
    {
     "data": {
      "text/html": [
       "<div>\n",
       "<style scoped>\n",
       "    .dataframe tbody tr th:only-of-type {\n",
       "        vertical-align: middle;\n",
       "    }\n",
       "\n",
       "    .dataframe tbody tr th {\n",
       "        vertical-align: top;\n",
       "    }\n",
       "\n",
       "    .dataframe thead th {\n",
       "        text-align: right;\n",
       "    }\n",
       "</style>\n",
       "<table border=\"1\" class=\"dataframe\">\n",
       "  <thead>\n",
       "    <tr style=\"text-align: right;\">\n",
       "      <th></th>\n",
       "      <th>Feature</th>\n",
       "      <th>VIF</th>\n",
       "    </tr>\n",
       "  </thead>\n",
       "  <tbody>\n",
       "    <tr>\n",
       "      <th>6</th>\n",
       "      <td>bmi</td>\n",
       "      <td>2.48</td>\n",
       "    </tr>\n",
       "    <tr>\n",
       "      <th>0</th>\n",
       "      <td>Senior person</td>\n",
       "      <td>1.84</td>\n",
       "    </tr>\n",
       "    <tr>\n",
       "      <th>1</th>\n",
       "      <td>Elder person</td>\n",
       "      <td>1.32</td>\n",
       "    </tr>\n",
       "    <tr>\n",
       "      <th>2</th>\n",
       "      <td>children_2</td>\n",
       "      <td>1.29</td>\n",
       "    </tr>\n",
       "    <tr>\n",
       "      <th>7</th>\n",
       "      <td>smoker</td>\n",
       "      <td>1.22</td>\n",
       "    </tr>\n",
       "    <tr>\n",
       "      <th>3</th>\n",
       "      <td>children_3</td>\n",
       "      <td>1.17</td>\n",
       "    </tr>\n",
       "    <tr>\n",
       "      <th>4</th>\n",
       "      <td>children_4</td>\n",
       "      <td>1.03</td>\n",
       "    </tr>\n",
       "    <tr>\n",
       "      <th>5</th>\n",
       "      <td>children_5</td>\n",
       "      <td>1.02</td>\n",
       "    </tr>\n",
       "  </tbody>\n",
       "</table>\n",
       "</div>"
      ],
      "text/plain": [
       "         Feature   VIF\n",
       "6            bmi  2.48\n",
       "0  Senior person  1.84\n",
       "1   Elder person  1.32\n",
       "2     children_2  1.29\n",
       "7         smoker  1.22\n",
       "3     children_3  1.17\n",
       "4     children_4  1.03\n",
       "5     children_5  1.02"
      ]
     },
     "execution_count": 117,
     "metadata": {},
     "output_type": "execute_result"
    }
   ],
   "source": [
    "#calculate the VIFs for the new model\n",
    "from statsmodels.stats.outliers_influence import variance_inflation_factor\n",
    "vif = pd.DataFrame()\n",
    "X = X_train_rfe\n",
    "vif['Feature'] = X.columns\n",
    "vif['VIF'] = [variance_inflation_factor(X.values,i) for i in range(X.shape[1])]\n",
    "vif['VIF'] = round(vif['VIF'],2)\n",
    "vif = vif.sort_values(by = \"VIF\",ascending = False)\n",
    "vif"
   ]
  },
  {
   "cell_type": "markdown",
   "id": "19e901ab",
   "metadata": {},
   "source": [
    "Now lets drop the variable having high p value.We can see children_5 has high p value"
   ]
  },
  {
   "cell_type": "code",
   "execution_count": 118,
   "id": "1c672e53",
   "metadata": {},
   "outputs": [],
   "source": [
    "#Drop children_5\n",
    "X_train_new1 = X_train_rfe.drop(['children_5'],axis=1)"
   ]
  },
  {
   "cell_type": "markdown",
   "id": "586605b0",
   "metadata": {},
   "source": [
    "#Rebuilding the model\n"
   ]
  },
  {
   "cell_type": "code",
   "execution_count": 119,
   "id": "9824a814",
   "metadata": {},
   "outputs": [
    {
     "name": "stdout",
     "output_type": "stream",
     "text": [
      "                            OLS Regression Results                            \n",
      "==============================================================================\n",
      "Dep. Variable:                charges   R-squared:                       0.725\n",
      "Model:                            OLS   Adj. R-squared:                  0.723\n",
      "Method:                 Least Squares   F-statistic:                     350.1\n",
      "Date:                Sat, 15 Apr 2023   Prob (F-statistic):          2.42e-255\n",
      "Time:                        23:54:43   Log-Likelihood:                 813.61\n",
      "No. Observations:                 936   AIC:                            -1611.\n",
      "Df Residuals:                     928   BIC:                            -1572.\n",
      "Df Model:                           7                                         \n",
      "Covariance Type:            nonrobust                                         \n",
      "=================================================================================\n",
      "                    coef    std err          t      P>|t|      [0.025      0.975]\n",
      "---------------------------------------------------------------------------------\n",
      "const            -0.0159      0.009     -1.680      0.093      -0.034       0.003\n",
      "Senior person     0.0764      0.007     10.396      0.000       0.062       0.091\n",
      "Elder person      0.1502      0.010     15.246      0.000       0.131       0.169\n",
      "children_2        0.0294      0.009      3.310      0.001       0.012       0.047\n",
      "children_3        0.0236      0.011      2.235      0.026       0.003       0.044\n",
      "children_4        0.0426      0.023      1.838      0.066      -0.003       0.088\n",
      "bmi               0.1741      0.020      8.678      0.000       0.135       0.213\n",
      "smoker            0.3822      0.008     45.352      0.000       0.366       0.399\n",
      "==============================================================================\n",
      "Omnibus:                      223.974   Durbin-Watson:                   2.053\n",
      "Prob(Omnibus):                  0.000   Jarque-Bera (JB):              536.183\n",
      "Skew:                           1.270   Prob(JB):                    3.71e-117\n",
      "Kurtosis:                       5.700   Cond. No.                         8.50\n",
      "==============================================================================\n",
      "\n",
      "Notes:\n",
      "[1] Standard Errors assume that the covariance matrix of the errors is correctly specified.\n"
     ]
    }
   ],
   "source": [
    "#Build a model\n",
    "X_train_lm1 = sm.add_constant(X_train_new1)\n",
    "lm1 = sm.OLS(y_train,X_train_lm1).fit()\n",
    "print(lm1.summary())"
   ]
  },
  {
   "cell_type": "code",
   "execution_count": 124,
   "id": "1b27a40b",
   "metadata": {},
   "outputs": [],
   "source": [
    "#Drop constant term Bo\n",
    "X_train_lm2 = X_train_lm1.drop(['const'],axis=1)"
   ]
  },
  {
   "cell_type": "code",
   "execution_count": 132,
   "id": "0ae58017",
   "metadata": {},
   "outputs": [
    {
     "name": "stdout",
     "output_type": "stream",
     "text": [
      "                            OLS Regression Results                            \n",
      "==============================================================================\n",
      "Dep. Variable:                charges   R-squared:                       0.725\n",
      "Model:                            OLS   Adj. R-squared:                  0.723\n",
      "Method:                 Least Squares   F-statistic:                     350.1\n",
      "Date:                Sun, 16 Apr 2023   Prob (F-statistic):          2.42e-255\n",
      "Time:                        00:09:26   Log-Likelihood:                 813.61\n",
      "No. Observations:                 936   AIC:                            -1611.\n",
      "Df Residuals:                     928   BIC:                            -1572.\n",
      "Df Model:                           7                                         \n",
      "Covariance Type:            nonrobust                                         \n",
      "=================================================================================\n",
      "                    coef    std err          t      P>|t|      [0.025      0.975]\n",
      "---------------------------------------------------------------------------------\n",
      "const            -0.0159      0.009     -1.680      0.093      -0.034       0.003\n",
      "Senior person     0.0764      0.007     10.396      0.000       0.062       0.091\n",
      "Elder person      0.1502      0.010     15.246      0.000       0.131       0.169\n",
      "children_2        0.0294      0.009      3.310      0.001       0.012       0.047\n",
      "children_3        0.0236      0.011      2.235      0.026       0.003       0.044\n",
      "children_4        0.0426      0.023      1.838      0.066      -0.003       0.088\n",
      "bmi               0.1741      0.020      8.678      0.000       0.135       0.213\n",
      "smoker            0.3822      0.008     45.352      0.000       0.366       0.399\n",
      "==============================================================================\n",
      "Omnibus:                      223.974   Durbin-Watson:                   2.053\n",
      "Prob(Omnibus):                  0.000   Jarque-Bera (JB):              536.183\n",
      "Skew:                           1.270   Prob(JB):                    3.71e-117\n",
      "Kurtosis:                       5.700   Cond. No.                         8.50\n",
      "==============================================================================\n",
      "\n",
      "Notes:\n",
      "[1] Standard Errors assume that the covariance matrix of the errors is correctly specified.\n"
     ]
    }
   ],
   "source": [
    "#Build a model\n",
    "X_train_lm2 = sm.add_constant(X_train_new1)\n",
    "lm2 = sm.OLS(y_train,X_train_lm1).fit()\n",
    "print(lm2.summary())"
   ]
  },
  {
   "cell_type": "code",
   "execution_count": 145,
   "id": "a48a110d",
   "metadata": {},
   "outputs": [],
   "source": [
    "#Drop constant term Bo\n",
    "X_train_lm3 = X_train_lm2.drop(['children_3'],axis=1)"
   ]
  },
  {
   "cell_type": "code",
   "execution_count": 146,
   "id": "1357f6b5",
   "metadata": {},
   "outputs": [
    {
     "name": "stdout",
     "output_type": "stream",
     "text": [
      "                            OLS Regression Results                            \n",
      "==============================================================================\n",
      "Dep. Variable:                charges   R-squared:                       0.725\n",
      "Model:                            OLS   Adj. R-squared:                  0.723\n",
      "Method:                 Least Squares   F-statistic:                     350.1\n",
      "Date:                Sun, 16 Apr 2023   Prob (F-statistic):          2.42e-255\n",
      "Time:                        00:18:53   Log-Likelihood:                 813.61\n",
      "No. Observations:                 936   AIC:                            -1611.\n",
      "Df Residuals:                     928   BIC:                            -1572.\n",
      "Df Model:                           7                                         \n",
      "Covariance Type:            nonrobust                                         \n",
      "=================================================================================\n",
      "                    coef    std err          t      P>|t|      [0.025      0.975]\n",
      "---------------------------------------------------------------------------------\n",
      "const            -0.0159      0.009     -1.680      0.093      -0.034       0.003\n",
      "Senior person     0.0764      0.007     10.396      0.000       0.062       0.091\n",
      "Elder person      0.1502      0.010     15.246      0.000       0.131       0.169\n",
      "children_2        0.0294      0.009      3.310      0.001       0.012       0.047\n",
      "children_3        0.0236      0.011      2.235      0.026       0.003       0.044\n",
      "children_4        0.0426      0.023      1.838      0.066      -0.003       0.088\n",
      "bmi               0.1741      0.020      8.678      0.000       0.135       0.213\n",
      "smoker            0.3822      0.008     45.352      0.000       0.366       0.399\n",
      "==============================================================================\n",
      "Omnibus:                      223.974   Durbin-Watson:                   2.053\n",
      "Prob(Omnibus):                  0.000   Jarque-Bera (JB):              536.183\n",
      "Skew:                           1.270   Prob(JB):                    3.71e-117\n",
      "Kurtosis:                       5.700   Cond. No.                         8.50\n",
      "==============================================================================\n",
      "\n",
      "Notes:\n",
      "[1] Standard Errors assume that the covariance matrix of the errors is correctly specified.\n"
     ]
    }
   ],
   "source": [
    "#Build a model\n",
    "X_train_lm3 = sm.add_constant(X_train_new1)\n",
    "lm3 = sm.OLS(y_train,X_train_lm2).fit()\n",
    "print(lm3.summary())"
   ]
  },
  {
   "cell_type": "code",
   "execution_count": 125,
   "id": "c61bb1f1",
   "metadata": {},
   "outputs": [
    {
     "data": {
      "text/html": [
       "<div>\n",
       "<style scoped>\n",
       "    .dataframe tbody tr th:only-of-type {\n",
       "        vertical-align: middle;\n",
       "    }\n",
       "\n",
       "    .dataframe tbody tr th {\n",
       "        vertical-align: top;\n",
       "    }\n",
       "\n",
       "    .dataframe thead th {\n",
       "        text-align: right;\n",
       "    }\n",
       "</style>\n",
       "<table border=\"1\" class=\"dataframe\">\n",
       "  <thead>\n",
       "    <tr style=\"text-align: right;\">\n",
       "      <th></th>\n",
       "      <th>Feature</th>\n",
       "      <th>VIF</th>\n",
       "    </tr>\n",
       "  </thead>\n",
       "  <tbody>\n",
       "    <tr>\n",
       "      <th>5</th>\n",
       "      <td>bmi</td>\n",
       "      <td>2.46</td>\n",
       "    </tr>\n",
       "    <tr>\n",
       "      <th>0</th>\n",
       "      <td>Senior person</td>\n",
       "      <td>1.84</td>\n",
       "    </tr>\n",
       "    <tr>\n",
       "      <th>1</th>\n",
       "      <td>Elder person</td>\n",
       "      <td>1.32</td>\n",
       "    </tr>\n",
       "    <tr>\n",
       "      <th>2</th>\n",
       "      <td>children_2</td>\n",
       "      <td>1.29</td>\n",
       "    </tr>\n",
       "    <tr>\n",
       "      <th>6</th>\n",
       "      <td>smoker</td>\n",
       "      <td>1.22</td>\n",
       "    </tr>\n",
       "    <tr>\n",
       "      <th>3</th>\n",
       "      <td>children_3</td>\n",
       "      <td>1.17</td>\n",
       "    </tr>\n",
       "    <tr>\n",
       "      <th>4</th>\n",
       "      <td>children_4</td>\n",
       "      <td>1.03</td>\n",
       "    </tr>\n",
       "  </tbody>\n",
       "</table>\n",
       "</div>"
      ],
      "text/plain": [
       "         Feature   VIF\n",
       "5            bmi  2.46\n",
       "0  Senior person  1.84\n",
       "1   Elder person  1.32\n",
       "2     children_2  1.29\n",
       "6         smoker  1.22\n",
       "3     children_3  1.17\n",
       "4     children_4  1.03"
      ]
     },
     "execution_count": 125,
     "metadata": {},
     "output_type": "execute_result"
    }
   ],
   "source": [
    "#calculate the VIFs for the new model\n",
    "from statsmodels.stats.outliers_influence import variance_inflation_factor\n",
    "vif = pd.DataFrame()\n",
    "X = X_train_lm2\n",
    "vif['Feature'] = X.columns\n",
    "vif['VIF'] = [variance_inflation_factor(X.values,i) for i in range(X.shape[1])]\n",
    "vif['VIF'] = round(vif['VIF'],2)\n",
    "vif = vif.sort_values(by = \"VIF\",ascending = False)\n",
    "vif"
   ]
  },
  {
   "cell_type": "code",
   "execution_count": null,
   "id": "ea4ec391",
   "metadata": {},
   "outputs": [],
   "source": []
  },
  {
   "cell_type": "code",
   "execution_count": 128,
   "id": "2bd672ba",
   "metadata": {},
   "outputs": [],
   "source": [
    "#Drop constant term Bo\n",
    "X_train_lm3 = X_train_lm2.drop(['children_3'],axis=1)"
   ]
  },
  {
   "cell_type": "code",
   "execution_count": 139,
   "id": "124c3460",
   "metadata": {},
   "outputs": [
    {
     "name": "stdout",
     "output_type": "stream",
     "text": [
      "                            OLS Regression Results                            \n",
      "==============================================================================\n",
      "Dep. Variable:                charges   R-squared:                       0.725\n",
      "Model:                            OLS   Adj. R-squared:                  0.723\n",
      "Method:                 Least Squares   F-statistic:                     350.1\n",
      "Date:                Sun, 16 Apr 2023   Prob (F-statistic):          2.42e-255\n",
      "Time:                        00:13:28   Log-Likelihood:                 813.61\n",
      "No. Observations:                 936   AIC:                            -1611.\n",
      "Df Residuals:                     928   BIC:                            -1572.\n",
      "Df Model:                           7                                         \n",
      "Covariance Type:            nonrobust                                         \n",
      "=================================================================================\n",
      "                    coef    std err          t      P>|t|      [0.025      0.975]\n",
      "---------------------------------------------------------------------------------\n",
      "const            -0.0159      0.009     -1.680      0.093      -0.034       0.003\n",
      "Senior person     0.0764      0.007     10.396      0.000       0.062       0.091\n",
      "Elder person      0.1502      0.010     15.246      0.000       0.131       0.169\n",
      "children_2        0.0294      0.009      3.310      0.001       0.012       0.047\n",
      "children_3        0.0236      0.011      2.235      0.026       0.003       0.044\n",
      "children_4        0.0426      0.023      1.838      0.066      -0.003       0.088\n",
      "bmi               0.1741      0.020      8.678      0.000       0.135       0.213\n",
      "smoker            0.3822      0.008     45.352      0.000       0.366       0.399\n",
      "==============================================================================\n",
      "Omnibus:                      223.974   Durbin-Watson:                   2.053\n",
      "Prob(Omnibus):                  0.000   Jarque-Bera (JB):              536.183\n",
      "Skew:                           1.270   Prob(JB):                    3.71e-117\n",
      "Kurtosis:                       5.700   Cond. No.                         8.50\n",
      "==============================================================================\n",
      "\n",
      "Notes:\n",
      "[1] Standard Errors assume that the covariance matrix of the errors is correctly specified.\n"
     ]
    }
   ],
   "source": [
    "#Build a model\n",
    "X_train_lm3 = sm.add_constant(X_train_new1)\n",
    "lm1 = sm.OLS(y_train,X_train_lm2).fit()\n",
    "print(lm1.summary())"
   ]
  },
  {
   "cell_type": "code",
   "execution_count": 140,
   "id": "21d35672",
   "metadata": {},
   "outputs": [
    {
     "data": {
      "text/html": [
       "<div>\n",
       "<style scoped>\n",
       "    .dataframe tbody tr th:only-of-type {\n",
       "        vertical-align: middle;\n",
       "    }\n",
       "\n",
       "    .dataframe tbody tr th {\n",
       "        vertical-align: top;\n",
       "    }\n",
       "\n",
       "    .dataframe thead th {\n",
       "        text-align: right;\n",
       "    }\n",
       "</style>\n",
       "<table border=\"1\" class=\"dataframe\">\n",
       "  <thead>\n",
       "    <tr style=\"text-align: right;\">\n",
       "      <th></th>\n",
       "      <th>Feature</th>\n",
       "      <th>VIF</th>\n",
       "    </tr>\n",
       "  </thead>\n",
       "  <tbody>\n",
       "    <tr>\n",
       "      <th>0</th>\n",
       "      <td>const</td>\n",
       "      <td>8.03</td>\n",
       "    </tr>\n",
       "    <tr>\n",
       "      <th>1</th>\n",
       "      <td>Senior person</td>\n",
       "      <td>1.18</td>\n",
       "    </tr>\n",
       "    <tr>\n",
       "      <th>2</th>\n",
       "      <td>Elder person</td>\n",
       "      <td>1.16</td>\n",
       "    </tr>\n",
       "    <tr>\n",
       "      <th>3</th>\n",
       "      <td>children_2</td>\n",
       "      <td>1.07</td>\n",
       "    </tr>\n",
       "    <tr>\n",
       "      <th>4</th>\n",
       "      <td>children_3</td>\n",
       "      <td>1.04</td>\n",
       "    </tr>\n",
       "    <tr>\n",
       "      <th>5</th>\n",
       "      <td>children_4</td>\n",
       "      <td>1.01</td>\n",
       "    </tr>\n",
       "    <tr>\n",
       "      <th>6</th>\n",
       "      <td>bmi</td>\n",
       "      <td>1.01</td>\n",
       "    </tr>\n",
       "    <tr>\n",
       "      <th>7</th>\n",
       "      <td>smoker</td>\n",
       "      <td>1.00</td>\n",
       "    </tr>\n",
       "  </tbody>\n",
       "</table>\n",
       "</div>"
      ],
      "text/plain": [
       "         Feature   VIF\n",
       "0          const  8.03\n",
       "1  Senior person  1.18\n",
       "2   Elder person  1.16\n",
       "3     children_2  1.07\n",
       "4     children_3  1.04\n",
       "5     children_4  1.01\n",
       "6            bmi  1.01\n",
       "7         smoker  1.00"
      ]
     },
     "execution_count": 140,
     "metadata": {},
     "output_type": "execute_result"
    }
   ],
   "source": [
    "#calculate the VIFs for the new model\n",
    "from statsmodels.stats.outliers_influence import variance_inflation_factor\n",
    "vif = pd.DataFrame()\n",
    "X = X_train_lm3\n",
    "vif['Feature'] = X.columns\n",
    "vif['VIF'] = [variance_inflation_factor(X.values,i) for i in range(X.shape[1])]\n",
    "vif['VIF'] = round(vif['VIF'],2)\n",
    "vif = vif.sort_values(by = \"VIF\",ascending = False)\n",
    "vif"
   ]
  },
  {
   "cell_type": "code",
   "execution_count": 142,
   "id": "ffba3789",
   "metadata": {},
   "outputs": [
    {
     "name": "stdout",
     "output_type": "stream",
     "text": [
      "                            OLS Regression Results                            \n",
      "==============================================================================\n",
      "Dep. Variable:                charges   R-squared:                       0.725\n",
      "Model:                            OLS   Adj. R-squared:                  0.723\n",
      "Method:                 Least Squares   F-statistic:                     350.1\n",
      "Date:                Sun, 16 Apr 2023   Prob (F-statistic):          2.42e-255\n",
      "Time:                        00:15:52   Log-Likelihood:                 813.61\n",
      "No. Observations:                 936   AIC:                            -1611.\n",
      "Df Residuals:                     928   BIC:                            -1572.\n",
      "Df Model:                           7                                         \n",
      "Covariance Type:            nonrobust                                         \n",
      "=================================================================================\n",
      "                    coef    std err          t      P>|t|      [0.025      0.975]\n",
      "---------------------------------------------------------------------------------\n",
      "const            -0.0159      0.009     -1.680      0.093      -0.034       0.003\n",
      "Senior person     0.0764      0.007     10.396      0.000       0.062       0.091\n",
      "Elder person      0.1502      0.010     15.246      0.000       0.131       0.169\n",
      "children_2        0.0294      0.009      3.310      0.001       0.012       0.047\n",
      "children_3        0.0236      0.011      2.235      0.026       0.003       0.044\n",
      "children_4        0.0426      0.023      1.838      0.066      -0.003       0.088\n",
      "bmi               0.1741      0.020      8.678      0.000       0.135       0.213\n",
      "smoker            0.3822      0.008     45.352      0.000       0.366       0.399\n",
      "==============================================================================\n",
      "Omnibus:                      223.974   Durbin-Watson:                   2.053\n",
      "Prob(Omnibus):                  0.000   Jarque-Bera (JB):              536.183\n",
      "Skew:                           1.270   Prob(JB):                    3.71e-117\n",
      "Kurtosis:                       5.700   Cond. No.                         8.50\n",
      "==============================================================================\n",
      "\n",
      "Notes:\n",
      "[1] Standard Errors assume that the covariance matrix of the errors is correctly specified.\n"
     ]
    }
   ],
   "source": [
    "#Build a model\n",
    "X_train_lm3 = sm.add_constant(X_train_new1)\n",
    "lm3 = sm.OLS(y_train,X_train_lm2).fit()\n",
    "print(lm3.summary())"
   ]
  },
  {
   "cell_type": "code",
   "execution_count": 149,
   "id": "2ddafb60",
   "metadata": {},
   "outputs": [],
   "source": [
    "#Drop constant term Bo\n",
    "X_train_lm4 = X_train_lm3.drop(['children_4'],axis=1)"
   ]
  },
  {
   "cell_type": "code",
   "execution_count": 150,
   "id": "ec2ce031",
   "metadata": {},
   "outputs": [
    {
     "name": "stdout",
     "output_type": "stream",
     "text": [
      "                            OLS Regression Results                            \n",
      "==============================================================================\n",
      "Dep. Variable:                charges   R-squared:                       0.725\n",
      "Model:                            OLS   Adj. R-squared:                  0.723\n",
      "Method:                 Least Squares   F-statistic:                     350.1\n",
      "Date:                Sun, 16 Apr 2023   Prob (F-statistic):          2.42e-255\n",
      "Time:                        00:19:37   Log-Likelihood:                 813.61\n",
      "No. Observations:                 936   AIC:                            -1611.\n",
      "Df Residuals:                     928   BIC:                            -1572.\n",
      "Df Model:                           7                                         \n",
      "Covariance Type:            nonrobust                                         \n",
      "=================================================================================\n",
      "                    coef    std err          t      P>|t|      [0.025      0.975]\n",
      "---------------------------------------------------------------------------------\n",
      "const            -0.0159      0.009     -1.680      0.093      -0.034       0.003\n",
      "Senior person     0.0764      0.007     10.396      0.000       0.062       0.091\n",
      "Elder person      0.1502      0.010     15.246      0.000       0.131       0.169\n",
      "children_2        0.0294      0.009      3.310      0.001       0.012       0.047\n",
      "children_3        0.0236      0.011      2.235      0.026       0.003       0.044\n",
      "children_4        0.0426      0.023      1.838      0.066      -0.003       0.088\n",
      "bmi               0.1741      0.020      8.678      0.000       0.135       0.213\n",
      "smoker            0.3822      0.008     45.352      0.000       0.366       0.399\n",
      "==============================================================================\n",
      "Omnibus:                      223.974   Durbin-Watson:                   2.053\n",
      "Prob(Omnibus):                  0.000   Jarque-Bera (JB):              536.183\n",
      "Skew:                           1.270   Prob(JB):                    3.71e-117\n",
      "Kurtosis:                       5.700   Cond. No.                         8.50\n",
      "==============================================================================\n",
      "\n",
      "Notes:\n",
      "[1] Standard Errors assume that the covariance matrix of the errors is correctly specified.\n"
     ]
    }
   ],
   "source": [
    "#Build a model\n",
    "X_train_lm4 = sm.add_constant(X_train_new1)\n",
    "lm4 = sm.OLS(y_train,X_train_lm3).fit()\n",
    "print(lm3.summary())"
   ]
  },
  {
   "cell_type": "markdown",
   "id": "bfb28b3d",
   "metadata": {},
   "source": [
    "Our model having acceptable p value and VIF"
   ]
  },
  {
   "cell_type": "markdown",
   "id": "968fa107",
   "metadata": {},
   "source": [
    "# step 6: Residual analysis of train data"
   ]
  },
  {
   "cell_type": "code",
   "execution_count": 152,
   "id": "34b34a28",
   "metadata": {},
   "outputs": [
    {
     "data": {
      "text/html": [
       "<div>\n",
       "<style scoped>\n",
       "    .dataframe tbody tr th:only-of-type {\n",
       "        vertical-align: middle;\n",
       "    }\n",
       "\n",
       "    .dataframe tbody tr th {\n",
       "        vertical-align: top;\n",
       "    }\n",
       "\n",
       "    .dataframe thead th {\n",
       "        text-align: right;\n",
       "    }\n",
       "</style>\n",
       "<table border=\"1\" class=\"dataframe\">\n",
       "  <thead>\n",
       "    <tr style=\"text-align: right;\">\n",
       "      <th></th>\n",
       "      <th>const</th>\n",
       "      <th>Senior person</th>\n",
       "      <th>Elder person</th>\n",
       "      <th>children_2</th>\n",
       "      <th>children_3</th>\n",
       "      <th>children_4</th>\n",
       "      <th>bmi</th>\n",
       "      <th>smoker</th>\n",
       "    </tr>\n",
       "  </thead>\n",
       "  <tbody>\n",
       "    <tr>\n",
       "      <th>966</th>\n",
       "      <td>1.0</td>\n",
       "      <td>1</td>\n",
       "      <td>0</td>\n",
       "      <td>1</td>\n",
       "      <td>0</td>\n",
       "      <td>0</td>\n",
       "      <td>0.237692</td>\n",
       "      <td>1</td>\n",
       "    </tr>\n",
       "    <tr>\n",
       "      <th>522</th>\n",
       "      <td>1.0</td>\n",
       "      <td>1</td>\n",
       "      <td>0</td>\n",
       "      <td>0</td>\n",
       "      <td>0</td>\n",
       "      <td>0</td>\n",
       "      <td>0.483051</td>\n",
       "      <td>0</td>\n",
       "    </tr>\n",
       "    <tr>\n",
       "      <th>155</th>\n",
       "      <td>1.0</td>\n",
       "      <td>1</td>\n",
       "      <td>0</td>\n",
       "      <td>0</td>\n",
       "      <td>0</td>\n",
       "      <td>0</td>\n",
       "      <td>0.633844</td>\n",
       "      <td>0</td>\n",
       "    </tr>\n",
       "    <tr>\n",
       "      <th>671</th>\n",
       "      <td>1.0</td>\n",
       "      <td>0</td>\n",
       "      <td>0</td>\n",
       "      <td>0</td>\n",
       "      <td>0</td>\n",
       "      <td>0</td>\n",
       "      <td>0.408932</td>\n",
       "      <td>0</td>\n",
       "    </tr>\n",
       "    <tr>\n",
       "      <th>1173</th>\n",
       "      <td>1.0</td>\n",
       "      <td>1</td>\n",
       "      <td>0</td>\n",
       "      <td>1</td>\n",
       "      <td>0</td>\n",
       "      <td>0</td>\n",
       "      <td>0.357815</td>\n",
       "      <td>0</td>\n",
       "    </tr>\n",
       "  </tbody>\n",
       "</table>\n",
       "</div>"
      ],
      "text/plain": [
       "      const  Senior person  Elder person  children_2  children_3  children_4  \\\n",
       "966     1.0              1             0           1           0           0   \n",
       "522     1.0              1             0           0           0           0   \n",
       "155     1.0              1             0           0           0           0   \n",
       "671     1.0              0             0           0           0           0   \n",
       "1173    1.0              1             0           1           0           0   \n",
       "\n",
       "           bmi  smoker  \n",
       "966   0.237692       1  \n",
       "522   0.483051       0  \n",
       "155   0.633844       0  \n",
       "671   0.408932       0  \n",
       "1173  0.357815       0  "
      ]
     },
     "execution_count": 152,
     "metadata": {},
     "output_type": "execute_result"
    }
   ],
   "source": [
    "#Now, to check if the error terms are also normally distributed,we plot histrogram of error and find how it looklike\n",
    "X_train_lm3 = sm.add_constant(X_train_lm3)\n",
    "X_train_lm3.head()"
   ]
  },
  {
   "cell_type": "code",
   "execution_count": 153,
   "id": "73a6fe92",
   "metadata": {},
   "outputs": [],
   "source": [
    "# y train predict\n",
    "y_train_pred = lm3.predict(X_train_lm3)"
   ]
  },
  {
   "cell_type": "code",
   "execution_count": 155,
   "id": "1f19126d",
   "metadata": {},
   "outputs": [
    {
     "data": {
      "text/plain": [
       "<Figure size 432x288 with 0 Axes>"
      ]
     },
     "metadata": {},
     "output_type": "display_data"
    },
    {
     "data": {
      "image/png": "[encoded data removed]",
      "text/plain": [
       "<Figure size 1008x504 with 1 Axes>"
      ]
     },
     "metadata": {
      "needs_background": "light"
     },
     "output_type": "display_data"
    }
   ],
   "source": [
    "#Plot histogram of th error terms\n",
    "\n",
    "fig = plt.figure()\n",
    "plt.figure(figsize=(14,7))\n",
    "sns.distplot((y_train-y_train_pred),bins = 20)\n",
    "plt.title('Error Terms',fontsize=20)\n",
    "plt.xlabel('Errors',fontsize =18) # X-label\n",
    "plt.show()"
   ]
  },
  {
   "cell_type": "markdown",
   "id": "f0d97403",
   "metadata": {},
   "source": [
    "Errors are normally distributed in the above fig."
   ]
  },
  {
   "cell_type": "markdown",
   "id": "34c6da8c",
   "metadata": {},
   "source": [
    "# Step 7: Making Predictions "
   ]
  },
  {
   "cell_type": "markdown",
   "id": "43b11d42",
   "metadata": {},
   "source": [
    "Applying the scaling on the test sets"
   ]
  },
  {
   "cell_type": "code",
   "execution_count": 160,
   "id": "7a538c4d",
   "metadata": {},
   "outputs": [
    {
     "data": {
      "text/html": [
       "<div>\n",
       "<style scoped>\n",
       "    .dataframe tbody tr th:only-of-type {\n",
       "        vertical-align: middle;\n",
       "    }\n",
       "\n",
       "    .dataframe tbody tr th {\n",
       "        vertical-align: top;\n",
       "    }\n",
       "\n",
       "    .dataframe thead th {\n",
       "        text-align: right;\n",
       "    }\n",
       "</style>\n",
       "<table border=\"1\" class=\"dataframe\">\n",
       "  <thead>\n",
       "    <tr style=\"text-align: right;\">\n",
       "      <th></th>\n",
       "      <th>northwest</th>\n",
       "      <th>southeast</th>\n",
       "      <th>southwest</th>\n",
       "      <th>Senior person</th>\n",
       "      <th>Elder person</th>\n",
       "      <th>children_1</th>\n",
       "      <th>children_2</th>\n",
       "      <th>children_3</th>\n",
       "      <th>children_4</th>\n",
       "      <th>children_5</th>\n",
       "      <th>sex</th>\n",
       "      <th>bmi</th>\n",
       "      <th>smoker</th>\n",
       "      <th>charges</th>\n",
       "    </tr>\n",
       "  </thead>\n",
       "  <tbody>\n",
       "    <tr>\n",
       "      <th>12</th>\n",
       "      <td>0</td>\n",
       "      <td>0</td>\n",
       "      <td>1</td>\n",
       "      <td>0</td>\n",
       "      <td>0</td>\n",
       "      <td>0</td>\n",
       "      <td>0</td>\n",
       "      <td>0</td>\n",
       "      <td>0</td>\n",
       "      <td>0</td>\n",
       "      <td>0</td>\n",
       "      <td>0.496099</td>\n",
       "      <td>0</td>\n",
       "      <td>0.011253</td>\n",
       "    </tr>\n",
       "    <tr>\n",
       "      <th>306</th>\n",
       "      <td>0</td>\n",
       "      <td>0</td>\n",
       "      <td>1</td>\n",
       "      <td>0</td>\n",
       "      <td>0</td>\n",
       "      <td>0</td>\n",
       "      <td>1</td>\n",
       "      <td>0</td>\n",
       "      <td>0</td>\n",
       "      <td>0</td>\n",
       "      <td>1</td>\n",
       "      <td>0.310465</td>\n",
       "      <td>0</td>\n",
       "      <td>0.304170</td>\n",
       "    </tr>\n",
       "    <tr>\n",
       "      <th>318</th>\n",
       "      <td>1</td>\n",
       "      <td>0</td>\n",
       "      <td>0</td>\n",
       "      <td>1</td>\n",
       "      <td>0</td>\n",
       "      <td>0</td>\n",
       "      <td>0</td>\n",
       "      <td>0</td>\n",
       "      <td>0</td>\n",
       "      <td>0</td>\n",
       "      <td>1</td>\n",
       "      <td>0.314366</td>\n",
       "      <td>0</td>\n",
       "      <td>0.100550</td>\n",
       "    </tr>\n",
       "    <tr>\n",
       "      <th>815</th>\n",
       "      <td>0</td>\n",
       "      <td>1</td>\n",
       "      <td>0</td>\n",
       "      <td>0</td>\n",
       "      <td>0</td>\n",
       "      <td>0</td>\n",
       "      <td>0</td>\n",
       "      <td>0</td>\n",
       "      <td>0</td>\n",
       "      <td>0</td>\n",
       "      <td>1</td>\n",
       "      <td>0.417003</td>\n",
       "      <td>0</td>\n",
       "      <td>0.012068</td>\n",
       "    </tr>\n",
       "    <tr>\n",
       "      <th>157</th>\n",
       "      <td>0</td>\n",
       "      <td>0</td>\n",
       "      <td>0</td>\n",
       "      <td>0</td>\n",
       "      <td>0</td>\n",
       "      <td>0</td>\n",
       "      <td>0</td>\n",
       "      <td>0</td>\n",
       "      <td>0</td>\n",
       "      <td>0</td>\n",
       "      <td>0</td>\n",
       "      <td>0.247915</td>\n",
       "      <td>1</td>\n",
       "      <td>0.229795</td>\n",
       "    </tr>\n",
       "  </tbody>\n",
       "</table>\n",
       "</div>"
      ],
      "text/plain": [
       "     northwest  southeast  southwest  Senior person  Elder person  children_1  \\\n",
       "12           0          0          1              0             0           0   \n",
       "306          0          0          1              0             0           0   \n",
       "318          1          0          0              1             0           0   \n",
       "815          0          1          0              0             0           0   \n",
       "157          0          0          0              0             0           0   \n",
       "\n",
       "     children_2  children_3  children_4  children_5  sex       bmi  smoker  \\\n",
       "12            0           0           0           0    0  0.496099       0   \n",
       "306           1           0           0           0    1  0.310465       0   \n",
       "318           0           0           0           0    1  0.314366       0   \n",
       "815           0           0           0           0    1  0.417003       0   \n",
       "157           0           0           0           0    0  0.247915       1   \n",
       "\n",
       "      charges  \n",
       "12   0.011253  \n",
       "306  0.304170  \n",
       "318  0.100550  \n",
       "815  0.012068  \n",
       "157  0.229795  "
      ]
     },
     "execution_count": 160,
     "metadata": {},
     "output_type": "execute_result"
    }
   ],
   "source": [
    "#Create a list of numeric variables\n",
    "num_vars = num_vars =['bmi','charges']\n",
    "\n",
    "#fit on data\n",
    "medical_need__test[num_vars] = scaler.transform(medical_need__test[num_vars])\n",
    "medical_need__test.head()"
   ]
  },
  {
   "cell_type": "code",
   "execution_count": 161,
   "id": "93c6694a",
   "metadata": {},
   "outputs": [
    {
     "data": {
      "text/html": [
       "<div>\n",
       "<style scoped>\n",
       "    .dataframe tbody tr th:only-of-type {\n",
       "        vertical-align: middle;\n",
       "    }\n",
       "\n",
       "    .dataframe tbody tr th {\n",
       "        vertical-align: top;\n",
       "    }\n",
       "\n",
       "    .dataframe thead th {\n",
       "        text-align: right;\n",
       "    }\n",
       "</style>\n",
       "<table border=\"1\" class=\"dataframe\">\n",
       "  <thead>\n",
       "    <tr style=\"text-align: right;\">\n",
       "      <th></th>\n",
       "      <th>northwest</th>\n",
       "      <th>southeast</th>\n",
       "      <th>southwest</th>\n",
       "      <th>Senior person</th>\n",
       "      <th>Elder person</th>\n",
       "      <th>children_1</th>\n",
       "      <th>children_2</th>\n",
       "      <th>children_3</th>\n",
       "      <th>children_4</th>\n",
       "      <th>children_5</th>\n",
       "      <th>sex</th>\n",
       "      <th>bmi</th>\n",
       "      <th>smoker</th>\n",
       "    </tr>\n",
       "  </thead>\n",
       "  <tbody>\n",
       "    <tr>\n",
       "      <th>count</th>\n",
       "      <td>402.000000</td>\n",
       "      <td>402.000000</td>\n",
       "      <td>402.000000</td>\n",
       "      <td>402.000000</td>\n",
       "      <td>402.000000</td>\n",
       "      <td>402.000000</td>\n",
       "      <td>402.000000</td>\n",
       "      <td>402.000000</td>\n",
       "      <td>402.000000</td>\n",
       "      <td>402.000000</td>\n",
       "      <td>402.000000</td>\n",
       "      <td>402.000000</td>\n",
       "      <td>402.000000</td>\n",
       "    </tr>\n",
       "    <tr>\n",
       "      <th>mean</th>\n",
       "      <td>0.238806</td>\n",
       "      <td>0.248756</td>\n",
       "      <td>0.243781</td>\n",
       "      <td>0.402985</td>\n",
       "      <td>0.169154</td>\n",
       "      <td>0.256219</td>\n",
       "      <td>0.166667</td>\n",
       "      <td>0.116915</td>\n",
       "      <td>0.012438</td>\n",
       "      <td>0.017413</td>\n",
       "      <td>0.477612</td>\n",
       "      <td>0.387383</td>\n",
       "      <td>0.228856</td>\n",
       "    </tr>\n",
       "    <tr>\n",
       "      <th>std</th>\n",
       "      <td>0.426885</td>\n",
       "      <td>0.432831</td>\n",
       "      <td>0.429897</td>\n",
       "      <td>0.491109</td>\n",
       "      <td>0.375355</td>\n",
       "      <td>0.437088</td>\n",
       "      <td>0.373142</td>\n",
       "      <td>0.321720</td>\n",
       "      <td>0.110967</td>\n",
       "      <td>0.130967</td>\n",
       "      <td>0.500121</td>\n",
       "      <td>0.156621</td>\n",
       "      <td>0.420620</td>\n",
       "    </tr>\n",
       "    <tr>\n",
       "      <th>min</th>\n",
       "      <td>0.000000</td>\n",
       "      <td>0.000000</td>\n",
       "      <td>0.000000</td>\n",
       "      <td>0.000000</td>\n",
       "      <td>0.000000</td>\n",
       "      <td>0.000000</td>\n",
       "      <td>0.000000</td>\n",
       "      <td>0.000000</td>\n",
       "      <td>0.000000</td>\n",
       "      <td>0.000000</td>\n",
       "      <td>0.000000</td>\n",
       "      <td>0.023002</td>\n",
       "      <td>0.000000</td>\n",
       "    </tr>\n",
       "    <tr>\n",
       "      <th>25%</th>\n",
       "      <td>0.000000</td>\n",
       "      <td>0.000000</td>\n",
       "      <td>0.000000</td>\n",
       "      <td>0.000000</td>\n",
       "      <td>0.000000</td>\n",
       "      <td>0.000000</td>\n",
       "      <td>0.000000</td>\n",
       "      <td>0.000000</td>\n",
       "      <td>0.000000</td>\n",
       "      <td>0.000000</td>\n",
       "      <td>0.000000</td>\n",
       "      <td>0.278585</td>\n",
       "      <td>0.000000</td>\n",
       "    </tr>\n",
       "    <tr>\n",
       "      <th>50%</th>\n",
       "      <td>0.000000</td>\n",
       "      <td>0.000000</td>\n",
       "      <td>0.000000</td>\n",
       "      <td>0.000000</td>\n",
       "      <td>0.000000</td>\n",
       "      <td>0.000000</td>\n",
       "      <td>0.000000</td>\n",
       "      <td>0.000000</td>\n",
       "      <td>0.000000</td>\n",
       "      <td>0.000000</td>\n",
       "      <td>0.000000</td>\n",
       "      <td>0.383105</td>\n",
       "      <td>0.000000</td>\n",
       "    </tr>\n",
       "    <tr>\n",
       "      <th>75%</th>\n",
       "      <td>0.000000</td>\n",
       "      <td>0.000000</td>\n",
       "      <td>0.000000</td>\n",
       "      <td>1.000000</td>\n",
       "      <td>0.000000</td>\n",
       "      <td>1.000000</td>\n",
       "      <td>0.000000</td>\n",
       "      <td>0.000000</td>\n",
       "      <td>0.000000</td>\n",
       "      <td>0.000000</td>\n",
       "      <td>1.000000</td>\n",
       "      <td>0.483051</td>\n",
       "      <td>0.000000</td>\n",
       "    </tr>\n",
       "    <tr>\n",
       "      <th>max</th>\n",
       "      <td>1.000000</td>\n",
       "      <td>1.000000</td>\n",
       "      <td>1.000000</td>\n",
       "      <td>1.000000</td>\n",
       "      <td>1.000000</td>\n",
       "      <td>1.000000</td>\n",
       "      <td>1.000000</td>\n",
       "      <td>1.000000</td>\n",
       "      <td>1.000000</td>\n",
       "      <td>1.000000</td>\n",
       "      <td>1.000000</td>\n",
       "      <td>0.890503</td>\n",
       "      <td>1.000000</td>\n",
       "    </tr>\n",
       "  </tbody>\n",
       "</table>\n",
       "</div>"
      ],
      "text/plain": [
       "        northwest   southeast   southwest  Senior person  Elder person  \\\n",
       "count  402.000000  402.000000  402.000000     402.000000    402.000000   \n",
       "mean     0.238806    0.248756    0.243781       0.402985      0.169154   \n",
       "std      0.426885    0.432831    0.429897       0.491109      0.375355   \n",
       "min      0.000000    0.000000    0.000000       0.000000      0.000000   \n",
       "25%      0.000000    0.000000    0.000000       0.000000      0.000000   \n",
       "50%      0.000000    0.000000    0.000000       0.000000      0.000000   \n",
       "75%      0.000000    0.000000    0.000000       1.000000      0.000000   \n",
       "max      1.000000    1.000000    1.000000       1.000000      1.000000   \n",
       "\n",
       "       children_1  children_2  children_3  children_4  children_5         sex  \\\n",
       "count  402.000000  402.000000  402.000000  402.000000  402.000000  402.000000   \n",
       "mean     0.256219    0.166667    0.116915    0.012438    0.017413    0.477612   \n",
       "std      0.437088    0.373142    0.321720    0.110967    0.130967    0.500121   \n",
       "min      0.000000    0.000000    0.000000    0.000000    0.000000    0.000000   \n",
       "25%      0.000000    0.000000    0.000000    0.000000    0.000000    0.000000   \n",
       "50%      0.000000    0.000000    0.000000    0.000000    0.000000    0.000000   \n",
       "75%      1.000000    0.000000    0.000000    0.000000    0.000000    1.000000   \n",
       "max      1.000000    1.000000    1.000000    1.000000    1.000000    1.000000   \n",
       "\n",
       "              bmi      smoker  \n",
       "count  402.000000  402.000000  \n",
       "mean     0.387383    0.228856  \n",
       "std      0.156621    0.420620  \n",
       "min      0.023002    0.000000  \n",
       "25%      0.278585    0.000000  \n",
       "50%      0.383105    0.000000  \n",
       "75%      0.483051    0.000000  \n",
       "max      0.890503    1.000000  "
      ]
     },
     "execution_count": 161,
     "metadata": {},
     "output_type": "execute_result"
    }
   ],
   "source": [
    "#Dividing into X_test and y_test\n",
    "y_test = medical_need__test.pop('charges')\n",
    "X_test = medical_need__test\n",
    "X_test.describe()"
   ]
  },
  {
   "cell_type": "code",
   "execution_count": 164,
   "id": "52d52edc",
   "metadata": {},
   "outputs": [
    {
     "data": {
      "text/plain": [
       "Index(['const', 'Senior person', 'Elder person', 'children_2', 'children_3',\n",
       "       'children_4', 'bmi', 'smoker'],\n",
       "      dtype='object')"
      ]
     },
     "execution_count": 164,
     "metadata": {},
     "output_type": "execute_result"
    }
   ],
   "source": [
    "X_train_lm3.columns"
   ]
  },
  {
   "cell_type": "code",
   "execution_count": 169,
   "id": "fd1c5f0a",
   "metadata": {},
   "outputs": [],
   "source": [
    "X_train_lm3 = X_train_lm3.drop(['const'],axis=1 ,inplace= True)"
   ]
  },
  {
   "cell_type": "code",
   "execution_count": 172,
   "id": "955a18e3",
   "metadata": {},
   "outputs": [
    {
     "data": {
      "text/html": [
       "<div>\n",
       "<style scoped>\n",
       "    .dataframe tbody tr th:only-of-type {\n",
       "        vertical-align: middle;\n",
       "    }\n",
       "\n",
       "    .dataframe tbody tr th {\n",
       "        vertical-align: top;\n",
       "    }\n",
       "\n",
       "    .dataframe thead th {\n",
       "        text-align: right;\n",
       "    }\n",
       "</style>\n",
       "<table border=\"1\" class=\"dataframe\">\n",
       "  <thead>\n",
       "    <tr style=\"text-align: right;\">\n",
       "      <th></th>\n",
       "      <th>const</th>\n",
       "      <th>Senior person</th>\n",
       "      <th>Elder person</th>\n",
       "      <th>children_2</th>\n",
       "      <th>children_3</th>\n",
       "      <th>children_4</th>\n",
       "      <th>bmi</th>\n",
       "      <th>smoker</th>\n",
       "    </tr>\n",
       "  </thead>\n",
       "  <tbody>\n",
       "    <tr>\n",
       "      <th>12</th>\n",
       "      <td>1.0</td>\n",
       "      <td>0</td>\n",
       "      <td>0</td>\n",
       "      <td>0</td>\n",
       "      <td>0</td>\n",
       "      <td>0</td>\n",
       "      <td>0.496099</td>\n",
       "      <td>0</td>\n",
       "    </tr>\n",
       "    <tr>\n",
       "      <th>306</th>\n",
       "      <td>1.0</td>\n",
       "      <td>0</td>\n",
       "      <td>0</td>\n",
       "      <td>1</td>\n",
       "      <td>0</td>\n",
       "      <td>0</td>\n",
       "      <td>0.310465</td>\n",
       "      <td>0</td>\n",
       "    </tr>\n",
       "    <tr>\n",
       "      <th>318</th>\n",
       "      <td>1.0</td>\n",
       "      <td>1</td>\n",
       "      <td>0</td>\n",
       "      <td>0</td>\n",
       "      <td>0</td>\n",
       "      <td>0</td>\n",
       "      <td>0.314366</td>\n",
       "      <td>0</td>\n",
       "    </tr>\n",
       "    <tr>\n",
       "      <th>815</th>\n",
       "      <td>1.0</td>\n",
       "      <td>0</td>\n",
       "      <td>0</td>\n",
       "      <td>0</td>\n",
       "      <td>0</td>\n",
       "      <td>0</td>\n",
       "      <td>0.417003</td>\n",
       "      <td>0</td>\n",
       "    </tr>\n",
       "    <tr>\n",
       "      <th>157</th>\n",
       "      <td>1.0</td>\n",
       "      <td>0</td>\n",
       "      <td>0</td>\n",
       "      <td>0</td>\n",
       "      <td>0</td>\n",
       "      <td>0</td>\n",
       "      <td>0.247915</td>\n",
       "      <td>1</td>\n",
       "    </tr>\n",
       "  </tbody>\n",
       "</table>\n",
       "</div>"
      ],
      "text/plain": [
       "     const  Senior person  Elder person  children_2  children_3  children_4  \\\n",
       "12     1.0              0             0           0           0           0   \n",
       "306    1.0              0             0           1           0           0   \n",
       "318    1.0              1             0           0           0           0   \n",
       "815    1.0              0             0           0           0           0   \n",
       "157    1.0              0             0           0           0           0   \n",
       "\n",
       "          bmi  smoker  \n",
       "12   0.496099       0  \n",
       "306  0.310465       0  \n",
       "318  0.314366       0  \n",
       "815  0.417003       0  \n",
       "157  0.247915       1  "
      ]
     },
     "execution_count": 172,
     "metadata": {},
     "output_type": "execute_result"
    }
   ],
   "source": [
    "#Now lest use our model to make predictions\n",
    "#creating X_test_new dataframe by dropping variables from X_test\n",
    "X_test_new = X_test[X_train_new1.columns]\n",
    "\n",
    "#Adding a constant variable\n",
    "X_test_new1 = sm.add_constant(X_test_new)\n",
    "X_test_new1.head()"
   ]
  },
  {
   "cell_type": "code",
   "execution_count": 174,
   "id": "3683c6bb",
   "metadata": {},
   "outputs": [],
   "source": [
    "#Making Predictions\n",
    "y_pred = lm3.predict(X_test_new1)"
   ]
  },
  {
   "cell_type": "markdown",
   "id": "2487f350",
   "metadata": {},
   "source": [
    "# Finding R2 and Adjusted R2 value"
   ]
  },
  {
   "cell_type": "code",
   "execution_count": 178,
   "id": "031db364",
   "metadata": {},
   "outputs": [
    {
     "name": "stdout",
     "output_type": "stream",
     "text": [
      "R^2= 0.7647753234614156\n"
     ]
    }
   ],
   "source": [
    "#Evaluate R^2 for test\n",
    "from sklearn.metrics import r2_score\n",
    "print(\"R^2=\",r2_score(y_test,y_pred))"
   ]
  },
  {
   "cell_type": "code",
   "execution_count": 179,
   "id": "59dec8b2",
   "metadata": {},
   "outputs": [
    {
     "name": "stdout",
     "output_type": "stream",
     "text": [
      "Adjusted accuracy= 0.7568940842990404\n"
     ]
    }
   ],
   "source": [
    "#Adjusted R^2\n",
    "#adj r2 = 1-(1-R2)*(n-1)/(n-p-1)\n",
    "\n",
    "#n =sample size, p = number of independent variables\n",
    "n = X_test.shape[0]\n",
    "p = X_test.shape[1]\n",
    "\n",
    "Adj_R2=1-(1-0.7647753234614156)*(n-1)/(n-p-1)\n",
    "print(\"Adjusted accuracy=\",Adj_R2)"
   ]
  },
  {
   "cell_type": "markdown",
   "id": "993e76c5",
   "metadata": {},
   "source": [
    "# Step 8:Model Evaluation"
   ]
  },
  {
   "cell_type": "code",
   "execution_count": 180,
   "id": "327812f3",
   "metadata": {},
   "outputs": [
    {
     "data": {
      "text/plain": [
       "<Figure size 432x288 with 0 Axes>"
      ]
     },
     "metadata": {},
     "output_type": "display_data"
    },
    {
     "data": {
      "image/png": "[encoded data removed]",
      "text/plain": [
       "<Figure size 1080x576 with 1 Axes>"
      ]
     },
     "metadata": {
      "needs_background": "light"
     },
     "output_type": "display_data"
    }
   ],
   "source": [
    "#Plotting y_test and y_pred to understand the spread.\n",
    "fig = plt.figure()\n",
    "plt.figure(figsize=(15,8))\n",
    "plt.scatter(y_test,y_pred,color ='blue')\n",
    "fig.suptitle('y_test vs y_pred',fontsize=20)\n",
    "plt.xlabel('y_test',fontsize = 18)\n",
    "plt.ylabel('y_pred',fontsize = 16)\n",
    "plt.show()"
   ]
  },
  {
   "cell_type": "code",
   "execution_count": 183,
   "id": "cdff95b4",
   "metadata": {},
   "outputs": [
    {
     "data": {
      "text/plain": [
       "<Figure size 432x288 with 0 Axes>"
      ]
     },
     "metadata": {},
     "output_type": "display_data"
    },
    {
     "data": {
      "image/png": "[encoded data removed]",
      "text/plain": [
       "<Figure size 1008x576 with 1 Axes>"
      ]
     },
     "metadata": {
      "needs_background": "light"
     },
     "output_type": "display_data"
    }
   ],
   "source": [
    "#Regression plot\n",
    "fig = plt.figure()\n",
    "plt.figure(figsize=(14,8))\n",
    "sns.regplot( x=y_test, y=y_pred,ci=68, fit_reg=True,scatter_kws={\"color\":\"blue\"}, line_kws={\"color\":\"red\"}) \n",
    "plt.xlabel('y_test',fontsize = 18)\n",
    "plt.ylabel('y_pred',fontsize = 16)\n",
    "plt.show()"
   ]
  },
  {
   "cell_type": "raw",
   "id": "a56d048c",
   "metadata": {},
   "source": [
    "RESULT Compasion Between Train model and Test:\n",
    "    Train R^2 :0.723\n",
    "    Train Adjusted R^2 :0.722\n",
    "    \n",
    "    Test R^2 : 0.762\n",
    "    Test Adjusted R^2:0.749\n",
    "Difference between R^2 between train and test:3.9%\n",
    "Difference between R^2 Train and Test : 2.7% < 5%"
   ]
  },
  {
   "cell_type": "code",
   "execution_count": null,
   "id": "bef97545",
   "metadata": {},
   "outputs": [],
   "source": [
    "Its a best model\n",
    "equation of best fitted line is:\n",
    "    charges = 0.3826*smoker+0.077*seniorPerson+0.14*Elder+).176*bmi+0.024*children_2"
   ]
  },
  {
   "cell_type": "markdown",
   "id": "ee057816",
   "metadata": {},
   "source": [
    "# Result: \n",
    "Smoking seems to have the most influence on the medical charges.\n",
    "    Age,bmi,no of children and smoking are contribute for the medical charges.\n",
    "    region and gender do not bring significant difference on charges."
   ]
  },
  {
   "cell_type": "markdown",
   "id": "6435f8d6",
   "metadata": {},
   "source": [
    "# Pickle the model"
   ]
  },
  {
   "cell_type": "code",
   "execution_count": null,
   "id": "caf6be57",
   "metadata": {},
   "outputs": [],
   "source": [
    "import pickle\n",
    "filename = 'pickle.pk1'\n",
    "pickel.dump(obj, file, protocol=None, *, fix_imports=True, buffer_callback=None)\n",
    "pickle.dump(obj, file, protocol=None, *, fix_imports=True, buffer_callback=None)"
   ]
  }
 ],
 "metadata": {
  "kernelspec": {
   "display_name": "Python 3 (ipykernel)",
   "language": "python",
   "name": "python3"
  },
  "language_info": {
   "codemirror_mode": {
    "name": "ipython",
    "version": 3
   },
   "file_extension": ".py",
   "mimetype": "text/x-python",
   "name": "python",
   "nbconvert_exporter": "python",
   "pygments_lexer": "ipython3",
   "version": "3.9.12"
  }
 },
 "nbformat": 4,
 "nbformat_minor": 5
}
